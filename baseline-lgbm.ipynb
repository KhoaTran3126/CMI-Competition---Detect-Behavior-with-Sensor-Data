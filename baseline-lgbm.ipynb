{
 "cells": [
  {
   "cell_type": "code",
   "execution_count": 1,
   "id": "a909b13a",
   "metadata": {
    "_cell_guid": "b1076dfc-b9ad-4769-8c92-a6c4dae69d19",
    "_uuid": "8f2839f25d086af736a60e9eeb907d3b93b6e0e5",
    "execution": {
     "iopub.execute_input": "2025-06-13T21:27:26.209985Z",
     "iopub.status.busy": "2025-06-13T21:27:26.209581Z",
     "iopub.status.idle": "2025-06-13T21:27:37.680963Z",
     "shell.execute_reply": "2025-06-13T21:27:37.679949Z"
    },
    "papermill": {
     "duration": 11.479118,
     "end_time": "2025-06-13T21:27:37.682625",
     "exception": false,
     "start_time": "2025-06-13T21:27:26.203507",
     "status": "completed"
    },
    "tags": []
   },
   "outputs": [],
   "source": [
    "import numpy as np\n",
    "import polars as pl\n",
    "import pandas as pd\n",
    "import seaborn as sea\n",
    "import matplotlib.pyplot as plt\n",
    "import joblib \n",
    "\n",
    "from sklearn.base import clone\n",
    "from sklearn.preprocessing import LabelEncoder\n",
    "from sklearn.model_selection import StratifiedKFold, StratifiedShuffleSplit\n",
    "\n",
    "import lightgbm\n",
    "from lightgbm import LGBMClassifier\n",
    "from sklearn.dummy import DummyClassifier\n",
    "\n",
    "import optuna\n",
    "import os\n",
    "import warnings\n",
    "warnings.filterwarnings('ignore')"
   ]
  },
  {
   "cell_type": "code",
   "execution_count": 2,
   "id": "93723500",
   "metadata": {
    "execution": {
     "iopub.execute_input": "2025-06-13T21:27:37.692405Z",
     "iopub.status.busy": "2025-06-13T21:27:37.691772Z",
     "iopub.status.idle": "2025-06-13T21:27:37.696471Z",
     "shell.execute_reply": "2025-06-13T21:27:37.695533Z"
    },
    "papermill": {
     "duration": 0.01132,
     "end_time": "2025-06-13T21:27:37.698254",
     "exception": false,
     "start_time": "2025-06-13T21:27:37.686934",
     "status": "completed"
    },
    "tags": []
   },
   "outputs": [],
   "source": [
    "SEED = 3126"
   ]
  },
  {
   "cell_type": "code",
   "execution_count": 3,
   "id": "ec8a0444",
   "metadata": {
    "execution": {
     "iopub.execute_input": "2025-06-13T21:27:37.707945Z",
     "iopub.status.busy": "2025-06-13T21:27:37.707603Z",
     "iopub.status.idle": "2025-06-13T21:27:38.546413Z",
     "shell.execute_reply": "2025-06-13T21:27:38.545285Z"
    },
    "papermill": {
     "duration": 0.845354,
     "end_time": "2025-06-13T21:27:38.548212",
     "exception": false,
     "start_time": "2025-06-13T21:27:37.702858",
     "status": "completed"
    },
    "tags": []
   },
   "outputs": [],
   "source": [
    "train = pd.read_csv(\"/kaggle/input/sequence-level-broad-summary-features/train_features.csv\")\n",
    "test  = pl.read_csv(\"/kaggle/input/cmi-detect-behavior-with-sensor-data/test.csv\")\n",
    "test_demo  = pl.read_csv(\"/kaggle/input/cmi-detect-behavior-with-sensor-data/test_demographics.csv\")\n",
    "\n",
    "label_encoder = joblib.load(\"/kaggle/input/sequence-level-broad-summary-features/label_encoder.joblib\")"
   ]
  },
  {
   "cell_type": "markdown",
   "id": "6c126336",
   "metadata": {
    "papermill": {
     "duration": 0.003681,
     "end_time": "2025-06-13T21:27:38.556727",
     "exception": false,
     "start_time": "2025-06-13T21:27:38.553046",
     "status": "completed"
    },
    "tags": []
   },
   "source": [
    "# Baseline and Null Models Evaluation"
   ]
  },
  {
   "cell_type": "code",
   "execution_count": 4,
   "id": "fcf69f95",
   "metadata": {
    "_kg_hide-input": true,
    "execution": {
     "iopub.execute_input": "2025-06-13T21:27:38.565855Z",
     "iopub.status.busy": "2025-06-13T21:27:38.565521Z",
     "iopub.status.idle": "2025-06-13T21:27:38.576442Z",
     "shell.execute_reply": "2025-06-13T21:27:38.575352Z"
    },
    "papermill": {
     "duration": 0.017238,
     "end_time": "2025-06-13T21:27:38.577985",
     "exception": false,
     "start_time": "2025-06-13T21:27:38.560747",
     "status": "completed"
    },
    "tags": []
   },
   "outputs": [],
   "source": [
    "from sklearn.metrics import f1_score\n",
    "\n",
    "class ParticipantVisibleError(Exception):\n",
    "    \"\"\"Errors raised here will be shown directly to the competitor.\"\"\"\n",
    "    pass\n",
    "\n",
    "\n",
    "class CompetitionMetric:\n",
    "    \"\"\"Hierarchical macro F1 for the CMI 2025 challenge.\"\"\"\n",
    "    def __init__(self):\n",
    "        self.target_gestures = [\n",
    "            'Above ear - pull hair',\n",
    "            'Cheek - pinch skin',\n",
    "            'Eyebrow - pull hair',\n",
    "            'Eyelash - pull hair',\n",
    "            'Forehead - pull hairline',\n",
    "            'Forehead - scratch',\n",
    "            'Neck - pinch skin',\n",
    "            'Neck - scratch',\n",
    "        ]\n",
    "        self.non_target_gestures = [\n",
    "            'Write name on leg',\n",
    "            'Wave hello',\n",
    "            'Glasses on/off',\n",
    "            'Text on phone',\n",
    "            'Write name in air',\n",
    "            'Feel around in tray and pull out an object',\n",
    "            'Scratch knee/leg skin',\n",
    "            'Pull air toward your face',\n",
    "            'Drink from bottle/cup',\n",
    "            'Pinch knee/leg skin'\n",
    "        ]\n",
    "        self.all_classes = self.target_gestures + self.non_target_gestures\n",
    "\n",
    "    def calculate_hierarchical_f1(\n",
    "        self,\n",
    "        sol: pd.DataFrame,\n",
    "        sub: pd.DataFrame\n",
    "    ) -> float:\n",
    "\n",
    "        # Validate gestures\n",
    "        invalid_types = {i for i in sub['gesture'].unique() if i not in self.all_classes}\n",
    "        if invalid_types:\n",
    "            raise ParticipantVisibleError(\n",
    "                f\"Invalid gesture values in submission: {invalid_types}\"\n",
    "            )\n",
    "\n",
    "        # Compute binary F1 (Target vs Non-Target)\n",
    "        y_true_bin = sol['gesture'].isin(self.target_gestures).values\n",
    "        y_pred_bin = sub['gesture'].isin(self.target_gestures).values\n",
    "        \n",
    "        f1_binary = f1_score(y_true_bin, y_pred_bin, pos_label=True, zero_division=0, average='binary')\n",
    "\n",
    "        # Build multi-class labels for gestures\n",
    "        y_true_mc = sol['gesture'].apply(lambda x: x if x in self.target_gestures else 'non_target')\n",
    "        y_pred_mc = sub['gesture'].apply(lambda x: x if x in self.target_gestures else 'non_target')\n",
    "\n",
    "        f1_macro = f1_score(y_true_mc, y_pred_mc, average='macro', zero_division=0)\n",
    "\n",
    "        return f1_binary, f1_macro, (f1_binary+f1_macro)/2.0"
   ]
  },
  {
   "cell_type": "code",
   "execution_count": 5,
   "id": "cb9b4e73",
   "metadata": {
    "execution": {
     "iopub.execute_input": "2025-06-13T21:27:38.586639Z",
     "iopub.status.busy": "2025-06-13T21:27:38.586308Z",
     "iopub.status.idle": "2025-06-13T21:27:38.592602Z",
     "shell.execute_reply": "2025-06-13T21:27:38.591710Z"
    },
    "papermill": {
     "duration": 0.012702,
     "end_time": "2025-06-13T21:27:38.594417",
     "exception": false,
     "start_time": "2025-06-13T21:27:38.581715",
     "status": "completed"
    },
    "tags": []
   },
   "outputs": [],
   "source": [
    "def F1_score(y_val, y_pred, lbl_encoder, choice=\"weighted_score\"):\n",
    "    metric = CompetitionMetric()\n",
    "    y_val  = pd.DataFrame({'id':range(len(y_val)), \n",
    "                           'gesture':y_val})\n",
    "    y_pred = pd.DataFrame({'id':range(len(y_pred)), \n",
    "                           'gesture':y_pred})\n",
    "\n",
    "    ## Convert numeric labels to original descriptions\n",
    "    y_val[\"gesture\"]  = lbl_encoder.inverse_transform(y_val[\"gesture\"])\n",
    "    y_pred[\"gesture\"] = lbl_encoder.inverse_transform(y_pred[\"gesture\"])\n",
    "\n",
    "    ## Computes score\n",
    "    binary, macro, weighted_score = metric.calculate_hierarchical_f1(y_val, y_pred)\n",
    "\n",
    "    ## Returns result\n",
    "    if choice==\"binary\": return binary\n",
    "    elif choice==\"macro\": return macro\n",
    "    elif choice==\"weighted_score\": return weighted_score\n",
    "    else: return (binary, macro, weighted_score)"
   ]
  },
  {
   "cell_type": "code",
   "execution_count": 6,
   "id": "57f8c69c",
   "metadata": {
    "execution": {
     "iopub.execute_input": "2025-06-13T21:27:38.603292Z",
     "iopub.status.busy": "2025-06-13T21:27:38.602981Z",
     "iopub.status.idle": "2025-06-13T21:27:38.625907Z",
     "shell.execute_reply": "2025-06-13T21:27:38.625028Z"
    },
    "papermill": {
     "duration": 0.029375,
     "end_time": "2025-06-13T21:27:38.627753",
     "exception": false,
     "start_time": "2025-06-13T21:27:38.598378",
     "status": "completed"
    },
    "tags": []
   },
   "outputs": [],
   "source": [
    "feature_cols = [col for col in train.columns \n",
    "                if col not in ['sequence_id', 'target', 'gesture', 'subject']]\n",
    "X = train[feature_cols]\n",
    "y = train[\"target\"]"
   ]
  },
  {
   "cell_type": "code",
   "execution_count": 7,
   "id": "8c23bbe9",
   "metadata": {
    "execution": {
     "iopub.execute_input": "2025-06-13T21:27:38.636624Z",
     "iopub.status.busy": "2025-06-13T21:27:38.636330Z",
     "iopub.status.idle": "2025-06-13T21:27:38.645190Z",
     "shell.execute_reply": "2025-06-13T21:27:38.644171Z"
    },
    "papermill": {
     "duration": 0.015249,
     "end_time": "2025-06-13T21:27:38.646818",
     "exception": false,
     "start_time": "2025-06-13T21:27:38.631569",
     "status": "completed"
    },
    "tags": []
   },
   "outputs": [],
   "source": [
    "def cv_evaluate(model, model_kind, X, y, lbl_encoder, n_splits=5, \n",
    "                random_state=SEED, stopping_rounds=100, min_delta=.0005):\n",
    "    skfold = StratifiedKFold(n_splits=n_splits, shuffle=True, random_state=random_state)\n",
    "    oof_preds = np.zeros_like(y)\n",
    "    binary_scores   = []\n",
    "    macro_scores    = []\n",
    "    weighted_scores = []\n",
    "    history = {}\n",
    "    \n",
    "    for fold_num,(train_fold, val_fold) in enumerate(skfold.split(X, y)):\n",
    "        print(f\"\\nFold {fold_num + 1}/{n_splits}\")\n",
    "        X_train, y_train = X.iloc[train_fold], y[train_fold]\n",
    "        X_val, y_val     = X.iloc[val_fold], y[val_fold]\n",
    "\n",
    "        cloned_model = clone(model)\n",
    "\n",
    "        if model_kind==\"lgbm\":\n",
    "            cloned_model.fit(\n",
    "                X_train, y_train,\n",
    "                eval_set=[(X_val, y_val)],\n",
    "                callbacks=[lightgbm.early_stopping(stopping_rounds=stopping_rounds, min_delta=min_delta)]\n",
    "            )\n",
    "        else:\n",
    "            cloned_model.fit(X_train, y_train)\n",
    "        ## Stores out-of-fold predictions\n",
    "        y_pred = cloned_model.predict(X_val)\n",
    "        oof_preds[val_fold] = y_pred\n",
    "        \n",
    "        ## Store cv scores\n",
    "        binary, macro, weighted_score = F1_score(y_val, y_pred, lbl_encoder, choice=None)\n",
    "        binary_scores.append(binary)\n",
    "        macro_scores.append(macro)\n",
    "        weighted_scores.append(weighted_score)\n",
    "    \n",
    "    ## Store cv results inside dict\n",
    "    history[\"oof_preds\"] = oof_preds\n",
    "    history[\"binary_scores\"] = binary_scores\n",
    "    history[\"macro_scores\"]  = macro_scores\n",
    "    history[\"weighted_scores\"] = weighted_scores\n",
    "\n",
    "    ## Store oof prediction scores inside dict\n",
    "    binary, macro, weighted_score = F1_score(y, oof_preds, lbl_encoder, choice=None)\n",
    "    history[\"full_binary_score\"] = binary\n",
    "    history[\"full_macro_score\"] = macro\n",
    "    history[\"full_weighted_score\"] = weighted_score\n",
    "    return history"
   ]
  },
  {
   "cell_type": "code",
   "execution_count": 8,
   "id": "59c5c7d0",
   "metadata": {
    "execution": {
     "iopub.execute_input": "2025-06-13T21:27:38.655475Z",
     "iopub.status.busy": "2025-06-13T21:27:38.655170Z",
     "iopub.status.idle": "2025-06-13T21:30:44.005921Z",
     "shell.execute_reply": "2025-06-13T21:30:44.004708Z"
    },
    "papermill": {
     "duration": 185.356998,
     "end_time": "2025-06-13T21:30:44.007767",
     "exception": false,
     "start_time": "2025-06-13T21:27:38.650769",
     "status": "completed"
    },
    "tags": []
   },
   "outputs": [
    {
     "name": "stdout",
     "output_type": "stream",
     "text": [
      "\n",
      "Fold 1/5\n",
      "Training until validation scores don't improve for 100 rounds\n",
      "Early stopping, best iteration is:\n",
      "[78]\tvalid_0's multi_logloss: 1.15669\n",
      "\n",
      "Fold 2/5\n",
      "Training until validation scores don't improve for 100 rounds\n",
      "Early stopping, best iteration is:\n",
      "[75]\tvalid_0's multi_logloss: 1.13742\n",
      "\n",
      "Fold 3/5\n",
      "Training until validation scores don't improve for 100 rounds\n",
      "Early stopping, best iteration is:\n",
      "[78]\tvalid_0's multi_logloss: 1.1494\n",
      "\n",
      "Fold 4/5\n",
      "Training until validation scores don't improve for 100 rounds\n",
      "Early stopping, best iteration is:\n",
      "[82]\tvalid_0's multi_logloss: 1.17065\n",
      "\n",
      "Fold 5/5\n",
      "Training until validation scores don't improve for 100 rounds\n",
      "Early stopping, best iteration is:\n",
      "[73]\tvalid_0's multi_logloss: 1.21251\n"
     ]
    }
   ],
   "source": [
    "params = {\"n_estimators\":2000,\n",
    "          \"max_depth\":10,\n",
    "          \"learning_rate\":.075,\n",
    "          \"colsample_bytree\":.75,\n",
    "          \"subsample\":.75\n",
    "}\n",
    "params[\"class_weight\"] = \"balanced\"\n",
    "params[\"objective\"] = \"multiclass\"\n",
    "params[\"n_jobs\"] = -1\n",
    "params[\"verbose\"] = -1\n",
    "params[\"random_state\"] = SEED\n",
    "\n",
    "baseline_lgbm = LGBMClassifier(**params)\n",
    "\n",
    "baseline_lgbm_history =  cv_evaluate(baseline_lgbm, \"lgbm\", X, y, label_encoder, n_splits=5, random_state=SEED)"
   ]
  },
  {
   "cell_type": "code",
   "execution_count": 9,
   "id": "68d788e2",
   "metadata": {
    "execution": {
     "iopub.execute_input": "2025-06-13T21:30:44.018396Z",
     "iopub.status.busy": "2025-06-13T21:30:44.018104Z",
     "iopub.status.idle": "2025-06-13T21:30:44.204101Z",
     "shell.execute_reply": "2025-06-13T21:30:44.202894Z"
    },
    "papermill": {
     "duration": 0.193015,
     "end_time": "2025-06-13T21:30:44.205708",
     "exception": false,
     "start_time": "2025-06-13T21:30:44.012693",
     "status": "completed"
    },
    "tags": []
   },
   "outputs": [
    {
     "name": "stdout",
     "output_type": "stream",
     "text": [
      "\n",
      "Fold 1/5\n",
      "\n",
      "Fold 2/5\n",
      "\n",
      "Fold 3/5\n",
      "\n",
      "Fold 4/5\n",
      "\n",
      "Fold 5/5\n"
     ]
    }
   ],
   "source": [
    "dummy = DummyClassifier(strategy=\"most_frequent\")\n",
    "dummy_history =  cv_evaluate(dummy, \"other\", X, y, label_encoder, n_splits=5, random_state=SEED)"
   ]
  },
  {
   "cell_type": "code",
   "execution_count": 10,
   "id": "538648a1",
   "metadata": {
    "_kg_hide-input": true,
    "execution": {
     "iopub.execute_input": "2025-06-13T21:30:44.216995Z",
     "iopub.status.busy": "2025-06-13T21:30:44.216657Z",
     "iopub.status.idle": "2025-06-13T21:30:44.848898Z",
     "shell.execute_reply": "2025-06-13T21:30:44.847861Z"
    },
    "jupyter": {
     "source_hidden": true
    },
    "papermill": {
     "duration": 0.639554,
     "end_time": "2025-06-13T21:30:44.850624",
     "exception": false,
     "start_time": "2025-06-13T21:30:44.211070",
     "status": "completed"
    },
    "tags": []
   },
   "outputs": [
    {
     "data": {
      "image/png": "[encoded data removed]",
      "text/plain": [
       "<Figure size 1600x400 with 2 Axes>"
      ]
     },
     "metadata": {},
     "output_type": "display_data"
    }
   ],
   "source": [
    "### Plot scores\n",
    "plt.figure(figsize=(16,4))\n",
    "plt.subplot(121)\n",
    "sea.rugplot(x=dummy_history[\"binary_scores\"], height=.5, label=\"validation fold's score\")\n",
    "sea.rugplot(x=[dummy_history[\"full_binary_score\"]], color=\"red\", height=.5, label=\"out-of-fold full score\")\n",
    "plt.xlabel(\"Binary F1 Score\")\n",
    "plt.ylabel(\"Density\")\n",
    "plt.title(\"Binary F1 Distribution of Dummy Classifier\")\n",
    "plt.legend()\n",
    "\n",
    "plt.subplot(122)\n",
    "sea.rugplot(x=baseline_lgbm_history[\"binary_scores\"], height=.5, label=\"validation fold's score\")\n",
    "sea.rugplot(x=[baseline_lgbm_history[\"full_binary_score\"]], color=\"red\", height=.5, label=\"out-of-fold full score\")\n",
    "plt.xlabel(\"Binary F1 Score\")\n",
    "plt.ylabel(\"Density\")\n",
    "plt.title(\"Binary F1 Distribution of Baseline LGBMClassifier\")\n",
    "plt.legend()\n",
    "\n",
    "plt.tight_layout()\n",
    "plt.show()"
   ]
  },
  {
   "cell_type": "code",
   "execution_count": 11,
   "id": "0c6a750d",
   "metadata": {
    "_kg_hide-input": true,
    "execution": {
     "iopub.execute_input": "2025-06-13T21:30:44.862353Z",
     "iopub.status.busy": "2025-06-13T21:30:44.862063Z",
     "iopub.status.idle": "2025-06-13T21:30:45.360122Z",
     "shell.execute_reply": "2025-06-13T21:30:45.359055Z"
    },
    "jupyter": {
     "source_hidden": true
    },
    "papermill": {
     "duration": 0.505664,
     "end_time": "2025-06-13T21:30:45.361639",
     "exception": false,
     "start_time": "2025-06-13T21:30:44.855975",
     "status": "completed"
    },
    "tags": []
   },
   "outputs": [
    {
     "data": {
      "image/png": "[encoded data removed]",
      "text/plain": [
       "<Figure size 1600x400 with 2 Axes>"
      ]
     },
     "metadata": {},
     "output_type": "display_data"
    }
   ],
   "source": [
    "### Plot scores\n",
    "plt.figure(figsize=(16,4))\n",
    "plt.subplot(121)\n",
    "sea.rugplot(x=np.round(dummy_history[\"macro_scores\"], 5), height=.5, label=\"validation fold's score\")\n",
    "sea.rugplot(x=[dummy_history[\"full_macro_score\"]], color=\"red\", height=.5, label=\"out-of-fold full score\")\n",
    "plt.xlabel(\"Macro F1 Score\")\n",
    "plt.ylabel(\"Density\")\n",
    "plt.title(\"Macro F1 Distribution of Dummy Classifier\")\n",
    "plt.legend()\n",
    "\n",
    "plt.subplot(122)\n",
    "sea.rugplot(x=baseline_lgbm_history[\"macro_scores\"], height=.5, label=\"validation fold's score\")\n",
    "sea.rugplot(x=[baseline_lgbm_history[\"full_macro_score\"]], color=\"red\", height=.5, label=\"out-of-fold full score\")\n",
    "plt.xlabel(\"Macro F1 Score\")\n",
    "plt.ylabel(\"Density\")\n",
    "plt.title(\"Macro F1 Distribution of Baseline LGBMClassifier\")\n",
    "plt.legend()\n",
    "\n",
    "plt.tight_layout()\n",
    "plt.show()"
   ]
  },
  {
   "cell_type": "code",
   "execution_count": 12,
   "id": "1c00db7b",
   "metadata": {
    "_kg_hide-input": true,
    "execution": {
     "iopub.execute_input": "2025-06-13T21:30:45.374855Z",
     "iopub.status.busy": "2025-06-13T21:30:45.374524Z",
     "iopub.status.idle": "2025-06-13T21:30:45.876738Z",
     "shell.execute_reply": "2025-06-13T21:30:45.875830Z"
    },
    "jupyter": {
     "source_hidden": true
    },
    "papermill": {
     "duration": 0.510909,
     "end_time": "2025-06-13T21:30:45.878654",
     "exception": false,
     "start_time": "2025-06-13T21:30:45.367745",
     "status": "completed"
    },
    "tags": []
   },
   "outputs": [
    {
     "data": {
      "image/png": "[encoded data removed]",
      "text/plain": [
       "<Figure size 1600x400 with 2 Axes>"
      ]
     },
     "metadata": {},
     "output_type": "display_data"
    }
   ],
   "source": [
    "### Plot scores\n",
    "plt.figure(figsize=(16,4))\n",
    "plt.subplot(121)\n",
    "sea.rugplot(x=np.round(dummy_history[\"weighted_scores\"], 5), height=.5, label=\"validation fold's score\")\n",
    "sea.rugplot(x=[dummy_history[\"full_weighted_score\"]], color=\"red\", height=.5, label=\"out-of-fold full score\")\n",
    "plt.xlabel(\"Averaged F1 Score\")\n",
    "plt.ylabel(\"Density\")\n",
    "plt.title(\"Averaged F1 Distribution of Dummy Classifier\")\n",
    "plt.legend()\n",
    "\n",
    "plt.subplot(122)\n",
    "sea.rugplot(x=baseline_lgbm_history[\"weighted_scores\"], height=.5, label=\"validation fold's score\")\n",
    "sea.rugplot(x=[baseline_lgbm_history[\"full_weighted_score\"]], color=\"red\", height=.5, label=\"out-of-fold full score\")\n",
    "plt.xlabel(\"Averaged F1 Score\")\n",
    "plt.ylabel(\"Density\")\n",
    "plt.title(\"Averaged F1 Distribution of Baseline LGBMClassifier\")\n",
    "plt.legend()\n",
    "\n",
    "plt.tight_layout()\n",
    "plt.show()"
   ]
  },
  {
   "cell_type": "markdown",
   "id": "5f040d79",
   "metadata": {
    "papermill": {
     "duration": 0.006709,
     "end_time": "2025-06-13T21:30:45.892096",
     "exception": false,
     "start_time": "2025-06-13T21:30:45.885387",
     "status": "completed"
    },
    "tags": []
   },
   "source": [
    "## Optuna "
   ]
  },
  {
   "cell_type": "code",
   "execution_count": 13,
   "id": "b8d86d7e",
   "metadata": {
    "execution": {
     "iopub.execute_input": "2025-06-13T21:30:45.906453Z",
     "iopub.status.busy": "2025-06-13T21:30:45.906113Z",
     "iopub.status.idle": "2025-06-13T21:30:45.913852Z",
     "shell.execute_reply": "2025-06-13T21:30:45.912654Z"
    },
    "papermill": {
     "duration": 0.017077,
     "end_time": "2025-06-13T21:30:45.915655",
     "exception": false,
     "start_time": "2025-06-13T21:30:45.898578",
     "status": "completed"
    },
    "tags": []
   },
   "outputs": [],
   "source": [
    "def optuna_cv(model, model_kind, X, y, lbl_encoder, n_splits=5, \n",
    "             random_state=SEED, stopping_rounds=100, min_delta=.0005):\n",
    "    \n",
    "    skfold = StratifiedKFold(n_splits=n_splits, shuffle=True, random_state=random_state)\n",
    "    weighted_scores = []\n",
    "    \n",
    "    for fold_num,(train_fold, val_fold) in enumerate(skfold.split(X, y)):\n",
    "        print(f\"\\nFold {fold_num + 1}/{n_splits}\")\n",
    "        X_train, y_train = X.iloc[train_fold], y[train_fold]\n",
    "        X_val, y_val     = X.iloc[val_fold], y[val_fold]\n",
    "\n",
    "        ## Makes clone of model\n",
    "        cloned_model = clone(model)\n",
    "\n",
    "        ## Trains appropriate model\n",
    "        if model_kind==\"lgbm\":\n",
    "            cloned_model.fit(\n",
    "                X_train, y_train,\n",
    "                eval_set=[(X_val, y_val)],\n",
    "                callbacks=[lightgbm.early_stopping(stopping_rounds=stopping_rounds, min_delta=min_delta, verbose=-1)]\n",
    "            )\n",
    "        else:\n",
    "            cloned_model.fit(X_train, y_train)\n",
    "\n",
    "        ## Makes prediction\n",
    "        y_pred = cloned_model.predict(X_val)\n",
    "        \n",
    "        ## Store cv score\n",
    "        weighted_score = F1_score(y_val, y_pred, lbl_encoder, choice=\"weighted_score\")\n",
    "        weighted_scores.append(weighted_score)\n",
    "    \n",
    "    return np.mean(weighted_scores)"
   ]
  },
  {
   "cell_type": "code",
   "execution_count": 14,
   "id": "11ecfbc5",
   "metadata": {
    "execution": {
     "iopub.execute_input": "2025-06-13T21:30:45.929843Z",
     "iopub.status.busy": "2025-06-13T21:30:45.929533Z",
     "iopub.status.idle": "2025-06-13T21:30:45.937810Z",
     "shell.execute_reply": "2025-06-13T21:30:45.936659Z"
    },
    "papermill": {
     "duration": 0.017343,
     "end_time": "2025-06-13T21:30:45.939566",
     "exception": false,
     "start_time": "2025-06-13T21:30:45.922223",
     "status": "completed"
    },
    "tags": []
   },
   "outputs": [],
   "source": [
    "def lgbm_objective(trial):\n",
    "    ## Initialize parameters\n",
    "    params = {\n",
    "        'n_estimators': trial.suggest_int('n_estimators', 100, 3000, log=True),\n",
    "        'learning_rate': trial.suggest_float('learning_rate', .0125, 0.125, log=True),\n",
    "        'max_depth': trial.suggest_int('max_depth', 3, 12),\n",
    "        'num_leaves': trial.suggest_int('num_leaves', 2**3, 2**8, log=True),\n",
    "        'min_child_samples': trial.suggest_int('min_child_samples', 15, 75),\n",
    "        'subsample': trial.suggest_float('subsample', .5, .9),\n",
    "        'colsample_bytree': trial.suggest_float('colsample_bytree', .5, .9),\n",
    "        'reg_lambda': trial.suggest_float(\"reg_lambda\", 1e-7, 1e-2, log=True),\n",
    "        'reg_alpha': trial.suggest_float(\"reg_alpha\", 1e-7, 1e-2, log=True) \n",
    "    }\n",
    "    stopping_rounds = trial.suggest_int(\"stopping_rounds\", 25, 150, step=25)\n",
    "    min_delta = trial.suggest_float(\"min_delta\", 5e-5, 1e-3, log=True)\n",
    "    params[\"class_weight\"] = \"balanced\"\n",
    "    params[\"objective\"] = \"multiclass\"\n",
    "    params[\"n_jobs\"] = -1\n",
    "    params[\"verbose\"] = -1\n",
    "    params[\"random_state\"] = SEED\n",
    "\n",
    "    ## Initializes model and obtains performance\n",
    "    model = LGBMClassifier(**params)\n",
    "    score =  optuna_cv(model, \"lgbm\", X, y, label_encoder, n_splits=5, \n",
    "                       random_state=SEED, stopping_rounds=stopping_rounds, min_delta=min_delta)\n",
    "    return score"
   ]
  },
  {
   "cell_type": "code",
   "execution_count": 15,
   "id": "f81c9222",
   "metadata": {
    "execution": {
     "iopub.execute_input": "2025-06-13T21:30:45.953998Z",
     "iopub.status.busy": "2025-06-13T21:30:45.953637Z",
     "iopub.status.idle": "2025-06-14T00:35:59.930203Z",
     "shell.execute_reply": "2025-06-14T00:35:59.929174Z"
    },
    "papermill": {
     "duration": 11113.986028,
     "end_time": "2025-06-14T00:35:59.932001",
     "exception": false,
     "start_time": "2025-06-13T21:30:45.945973",
     "status": "completed"
    },
    "tags": []
   },
   "outputs": [
    {
     "name": "stderr",
     "output_type": "stream",
     "text": [
      "[I 2025-06-13 21:30:45,956] A new study created in memory with name: no-name-4ee18da2-d61b-4ea8-8c84-0dccb69750d4\n"
     ]
    },
    {
     "name": "stdout",
     "output_type": "stream",
     "text": [
      "\n",
      "Fold 1/5\n",
      "Training until validation scores don't improve for 75 rounds\n",
      "Early stopping, best iteration is:\n",
      "[157]\tvalid_0's multi_logloss: 1.0908\n",
      "\n",
      "Fold 2/5\n",
      "Training until validation scores don't improve for 75 rounds\n",
      "Early stopping, best iteration is:\n",
      "[144]\tvalid_0's multi_logloss: 1.09621\n",
      "\n",
      "Fold 3/5\n",
      "Training until validation scores don't improve for 75 rounds\n",
      "Early stopping, best iteration is:\n",
      "[165]\tvalid_0's multi_logloss: 1.09977\n",
      "\n",
      "Fold 4/5\n",
      "Training until validation scores don't improve for 75 rounds\n",
      "Early stopping, best iteration is:\n",
      "[175]\tvalid_0's multi_logloss: 1.09124\n",
      "\n",
      "Fold 5/5\n",
      "Training until validation scores don't improve for 75 rounds\n",
      "Early stopping, best iteration is:\n",
      "[131]\tvalid_0's multi_logloss: 1.15485\n"
     ]
    },
    {
     "name": "stderr",
     "output_type": "stream",
     "text": [
      "[I 2025-06-13 21:35:08,093] Trial 0 finished with value: 0.7613740267121528 and parameters: {'n_estimators': 2173, 'learning_rate': 0.04446938960009721, 'max_depth': 9, 'num_leaves': 100, 'min_child_samples': 73, 'subsample': 0.516713697184874, 'colsample_bytree': 0.8057247487178438, 'reg_lambda': 0.000572969048829653, 'reg_alpha': 1.482347281359505e-06, 'stopping_rounds': 75, 'min_delta': 5.352677523687092e-05}. Best is trial 0 with value: 0.7613740267121528.\n"
     ]
    },
    {
     "name": "stdout",
     "output_type": "stream",
     "text": [
      "\n",
      "Fold 1/5\n",
      "Training until validation scores don't improve for 125 rounds\n",
      "Early stopping, best iteration is:\n",
      "[310]\tvalid_0's multi_logloss: 1.11712\n",
      "\n",
      "Fold 2/5\n",
      "Training until validation scores don't improve for 125 rounds\n",
      "Early stopping, best iteration is:\n",
      "[280]\tvalid_0's multi_logloss: 1.12259\n",
      "\n",
      "Fold 3/5\n",
      "Training until validation scores don't improve for 125 rounds\n",
      "Early stopping, best iteration is:\n",
      "[354]\tvalid_0's multi_logloss: 1.09471\n",
      "\n",
      "Fold 4/5\n",
      "Training until validation scores don't improve for 125 rounds\n",
      "Early stopping, best iteration is:\n",
      "[336]\tvalid_0's multi_logloss: 1.12205\n",
      "\n",
      "Fold 5/5\n",
      "Training until validation scores don't improve for 125 rounds\n",
      "Early stopping, best iteration is:\n",
      "[214]\tvalid_0's multi_logloss: 1.16708\n"
     ]
    },
    {
     "name": "stderr",
     "output_type": "stream",
     "text": [
      "[I 2025-06-13 21:36:36,809] Trial 1 finished with value: 0.7537024264069893 and parameters: {'n_estimators': 1119, 'learning_rate': 0.07761087409236457, 'max_depth': 3, 'num_leaves': 245, 'min_child_samples': 60, 'subsample': 0.6192326816776991, 'colsample_bytree': 0.5020281098115027, 'reg_lambda': 1.1972599158734124e-07, 'reg_alpha': 0.0003480052904731114, 'stopping_rounds': 125, 'min_delta': 0.0005388037356427951}. Best is trial 0 with value: 0.7613740267121528.\n"
     ]
    },
    {
     "name": "stdout",
     "output_type": "stream",
     "text": [
      "\n",
      "Fold 1/5\n",
      "Training until validation scores don't improve for 25 rounds\n",
      "Early stopping, best iteration is:\n",
      "[71]\tvalid_0's multi_logloss: 1.15833\n",
      "\n",
      "Fold 2/5\n",
      "Training until validation scores don't improve for 25 rounds\n",
      "Early stopping, best iteration is:\n",
      "[60]\tvalid_0's multi_logloss: 1.1299\n",
      "\n",
      "Fold 3/5\n",
      "Training until validation scores don't improve for 25 rounds\n",
      "Early stopping, best iteration is:\n",
      "[78]\tvalid_0's multi_logloss: 1.13209\n",
      "\n",
      "Fold 4/5\n",
      "Training until validation scores don't improve for 25 rounds\n",
      "Early stopping, best iteration is:\n",
      "[83]\tvalid_0's multi_logloss: 1.13856\n",
      "\n",
      "Fold 5/5\n",
      "Training until validation scores don't improve for 25 rounds\n"
     ]
    },
    {
     "name": "stderr",
     "output_type": "stream",
     "text": [
      "[I 2025-06-13 21:37:54,151] Trial 2 finished with value: 0.7578782294658948 and parameters: {'n_estimators': 539, 'learning_rate': 0.09220403118299544, 'max_depth': 9, 'num_leaves': 31, 'min_child_samples': 31, 'subsample': 0.7948995425592571, 'colsample_bytree': 0.5482522843656776, 'reg_lambda': 2.626267599028431e-06, 'reg_alpha': 0.002248390918460692, 'stopping_rounds': 25, 'min_delta': 0.00011976460236792266}. Best is trial 0 with value: 0.7613740267121528.\n"
     ]
    },
    {
     "name": "stdout",
     "output_type": "stream",
     "text": [
      "Early stopping, best iteration is:\n",
      "[65]\tvalid_0's multi_logloss: 1.19978\n",
      "\n",
      "Fold 1/5\n",
      "Training until validation scores don't improve for 25 rounds\n",
      "Early stopping, best iteration is:\n",
      "[76]\tvalid_0's multi_logloss: 1.1508\n",
      "\n",
      "Fold 2/5\n",
      "Training until validation scores don't improve for 25 rounds\n",
      "Early stopping, best iteration is:\n",
      "[74]\tvalid_0's multi_logloss: 1.13925\n",
      "\n",
      "Fold 3/5\n",
      "Training until validation scores don't improve for 25 rounds\n",
      "Early stopping, best iteration is:\n",
      "[80]\tvalid_0's multi_logloss: 1.13795\n",
      "\n",
      "Fold 4/5\n",
      "Training until validation scores don't improve for 25 rounds\n",
      "Early stopping, best iteration is:\n",
      "[78]\tvalid_0's multi_logloss: 1.12949\n",
      "\n",
      "Fold 5/5\n",
      "Training until validation scores don't improve for 25 rounds\n",
      "Early stopping, best iteration is:\n",
      "[67]\tvalid_0's multi_logloss: 1.19427\n"
     ]
    },
    {
     "name": "stderr",
     "output_type": "stream",
     "text": [
      "[I 2025-06-13 21:39:42,976] Trial 3 finished with value: 0.753903159324437 and parameters: {'n_estimators': 286, 'learning_rate': 0.07504890428483249, 'max_depth': 9, 'num_leaves': 184, 'min_child_samples': 38, 'subsample': 0.7295910825075778, 'colsample_bytree': 0.629531657670085, 'reg_lambda': 1.1164660815456925e-05, 'reg_alpha': 0.0020056036049101293, 'stopping_rounds': 25, 'min_delta': 0.00013018999718304733}. Best is trial 0 with value: 0.7613740267121528.\n"
     ]
    },
    {
     "name": "stdout",
     "output_type": "stream",
     "text": [
      "\n",
      "Fold 1/5\n",
      "Training until validation scores don't improve for 100 rounds\n",
      "Early stopping, best iteration is:\n",
      "[811]\tvalid_0's multi_logloss: 1.10558\n",
      "\n",
      "Fold 2/5\n",
      "Training until validation scores don't improve for 100 rounds\n",
      "Early stopping, best iteration is:\n",
      "[717]\tvalid_0's multi_logloss: 1.11073\n",
      "\n",
      "Fold 3/5\n",
      "Training until validation scores don't improve for 100 rounds\n",
      "Early stopping, best iteration is:\n",
      "[908]\tvalid_0's multi_logloss: 1.0938\n",
      "\n",
      "Fold 4/5\n",
      "Training until validation scores don't improve for 100 rounds\n",
      "Early stopping, best iteration is:\n",
      "[886]\tvalid_0's multi_logloss: 1.10806\n",
      "\n",
      "Fold 5/5\n",
      "Training until validation scores don't improve for 100 rounds\n",
      "Early stopping, best iteration is:\n",
      "[675]\tvalid_0's multi_logloss: 1.1782\n"
     ]
    },
    {
     "name": "stderr",
     "output_type": "stream",
     "text": [
      "[I 2025-06-13 21:48:00,047] Trial 4 finished with value: 0.7623353411878286 and parameters: {'n_estimators': 1487, 'learning_rate': 0.013674646766903296, 'max_depth': 6, 'num_leaves': 12, 'min_child_samples': 24, 'subsample': 0.8871968860334765, 'colsample_bytree': 0.760682676625448, 'reg_lambda': 1.3026326899874972e-06, 'reg_alpha': 3.1638208989499744e-06, 'stopping_rounds': 100, 'min_delta': 0.00018012035917872295}. Best is trial 4 with value: 0.7623353411878286.\n"
     ]
    },
    {
     "name": "stdout",
     "output_type": "stream",
     "text": [
      "\n",
      "Fold 1/5\n",
      "Training until validation scores don't improve for 100 rounds\n",
      "Early stopping, best iteration is:\n",
      "[86]\tvalid_0's multi_logloss: 1.16798\n",
      "\n",
      "Fold 2/5\n",
      "Training until validation scores don't improve for 100 rounds\n",
      "Early stopping, best iteration is:\n",
      "[64]\tvalid_0's multi_logloss: 1.14166\n",
      "\n",
      "Fold 3/5\n",
      "Training until validation scores don't improve for 100 rounds\n",
      "Early stopping, best iteration is:\n",
      "[86]\tvalid_0's multi_logloss: 1.14936\n",
      "\n",
      "Fold 4/5\n",
      "Training until validation scores don't improve for 100 rounds\n",
      "Early stopping, best iteration is:\n",
      "[100]\tvalid_0's multi_logloss: 1.1455\n",
      "\n",
      "Fold 5/5\n",
      "Training until validation scores don't improve for 100 rounds\n"
     ]
    },
    {
     "name": "stderr",
     "output_type": "stream",
     "text": [
      "[I 2025-06-13 21:49:41,147] Trial 5 finished with value: 0.7496043870498916 and parameters: {'n_estimators': 238, 'learning_rate': 0.11372379724134808, 'max_depth': 6, 'num_leaves': 18, 'min_child_samples': 47, 'subsample': 0.7919136117786403, 'colsample_bytree': 0.6665870447369492, 'reg_lambda': 4.694021516020324e-05, 'reg_alpha': 5.54129145990139e-07, 'stopping_rounds': 100, 'min_delta': 0.0001409313905796219}. Best is trial 4 with value: 0.7623353411878286.\n"
     ]
    },
    {
     "name": "stdout",
     "output_type": "stream",
     "text": [
      "Early stopping, best iteration is:\n",
      "[61]\tvalid_0's multi_logloss: 1.19046\n",
      "\n",
      "Fold 1/5\n",
      "Training until validation scores don't improve for 75 rounds\n",
      "Early stopping, best iteration is:\n",
      "[127]\tvalid_0's multi_logloss: 1.11983\n",
      "\n",
      "Fold 2/5\n",
      "Training until validation scores don't improve for 75 rounds\n",
      "Early stopping, best iteration is:\n",
      "[119]\tvalid_0's multi_logloss: 1.12758\n",
      "\n",
      "Fold 3/5\n",
      "Training until validation scores don't improve for 75 rounds\n",
      "Early stopping, best iteration is:\n",
      "[129]\tvalid_0's multi_logloss: 1.09823\n",
      "\n",
      "Fold 4/5\n",
      "Training until validation scores don't improve for 75 rounds\n",
      "Early stopping, best iteration is:\n",
      "[165]\tvalid_0's multi_logloss: 1.10615\n",
      "\n",
      "Fold 5/5\n",
      "Training until validation scores don't improve for 75 rounds\n",
      "Early stopping, best iteration is:\n",
      "[108]\tvalid_0's multi_logloss: 1.19178\n"
     ]
    },
    {
     "name": "stderr",
     "output_type": "stream",
     "text": [
      "[I 2025-06-13 21:51:19,085] Trial 6 finished with value: 0.7581667135767376 and parameters: {'n_estimators': 286, 'learning_rate': 0.07990599050618753, 'max_depth': 5, 'num_leaves': 33, 'min_child_samples': 46, 'subsample': 0.6123366979789767, 'colsample_bytree': 0.5354802489465474, 'reg_lambda': 0.0006476133418150925, 'reg_alpha': 3.5630838328254836e-06, 'stopping_rounds': 75, 'min_delta': 0.00015138315124063874}. Best is trial 4 with value: 0.7623353411878286.\n"
     ]
    },
    {
     "name": "stdout",
     "output_type": "stream",
     "text": [
      "\n",
      "Fold 1/5\n",
      "Training until validation scores don't improve for 100 rounds\n",
      "Early stopping, best iteration is:\n",
      "[83]\tvalid_0's multi_logloss: 1.11294\n",
      "\n",
      "Fold 2/5\n",
      "Training until validation scores don't improve for 100 rounds\n",
      "Early stopping, best iteration is:\n",
      "[72]\tvalid_0's multi_logloss: 1.12341\n",
      "\n",
      "Fold 3/5\n",
      "Training until validation scores don't improve for 100 rounds\n",
      "Early stopping, best iteration is:\n",
      "[80]\tvalid_0's multi_logloss: 1.12286\n",
      "\n",
      "Fold 4/5\n",
      "Training until validation scores don't improve for 100 rounds\n",
      "Early stopping, best iteration is:\n",
      "[89]\tvalid_0's multi_logloss: 1.13567\n",
      "\n",
      "Fold 5/5\n",
      "Training until validation scores don't improve for 100 rounds\n",
      "Early stopping, best iteration is:\n",
      "[72]\tvalid_0's multi_logloss: 1.16223\n"
     ]
    },
    {
     "name": "stderr",
     "output_type": "stream",
     "text": [
      "[I 2025-06-13 21:54:36,179] Trial 7 finished with value: 0.7547254950292361 and parameters: {'n_estimators': 2979, 'learning_rate': 0.07982162897776736, 'max_depth': 9, 'num_leaves': 76, 'min_child_samples': 64, 'subsample': 0.851839202827913, 'colsample_bytree': 0.8347792749749607, 'reg_lambda': 3.722083499537664e-05, 'reg_alpha': 0.00033183217915297143, 'stopping_rounds': 100, 'min_delta': 0.0005595656190038463}. Best is trial 4 with value: 0.7623353411878286.\n"
     ]
    },
    {
     "name": "stdout",
     "output_type": "stream",
     "text": [
      "\n",
      "Fold 1/5\n",
      "Training until validation scores don't improve for 150 rounds\n",
      "Early stopping, best iteration is:\n",
      "[51]\tvalid_0's multi_logloss: 1.19933\n",
      "\n",
      "Fold 2/5\n",
      "Training until validation scores don't improve for 150 rounds\n",
      "Early stopping, best iteration is:\n",
      "[55]\tvalid_0's multi_logloss: 1.19869\n",
      "\n",
      "Fold 3/5\n",
      "Training until validation scores don't improve for 150 rounds\n",
      "Early stopping, best iteration is:\n",
      "[51]\tvalid_0's multi_logloss: 1.19224\n",
      "\n",
      "Fold 4/5\n",
      "Training until validation scores don't improve for 150 rounds\n",
      "Early stopping, best iteration is:\n",
      "[60]\tvalid_0's multi_logloss: 1.18116\n",
      "\n",
      "Fold 5/5\n",
      "Training until validation scores don't improve for 150 rounds\n",
      "Early stopping, best iteration is:\n",
      "[44]\tvalid_0's multi_logloss: 1.25105\n"
     ]
    },
    {
     "name": "stderr",
     "output_type": "stream",
     "text": [
      "[I 2025-06-13 21:58:43,779] Trial 8 finished with value: 0.7498254449883521 and parameters: {'n_estimators': 947, 'learning_rate': 0.09406003415877973, 'max_depth': 10, 'num_leaves': 76, 'min_child_samples': 23, 'subsample': 0.545965338079401, 'colsample_bytree': 0.7915474846347614, 'reg_lambda': 0.00012693549923462383, 'reg_alpha': 1.2639023713166334e-05, 'stopping_rounds': 150, 'min_delta': 8.925798355320911e-05}. Best is trial 4 with value: 0.7623353411878286.\n"
     ]
    },
    {
     "name": "stdout",
     "output_type": "stream",
     "text": [
      "\n",
      "Fold 1/5\n",
      "Training until validation scores don't improve for 125 rounds\n",
      "Did not meet early stopping. Best iteration is:\n",
      "[104]\tvalid_0's multi_logloss: 1.13825\n",
      "\n",
      "Fold 2/5\n",
      "Training until validation scores don't improve for 125 rounds\n",
      "Did not meet early stopping. Best iteration is:\n",
      "[104]\tvalid_0's multi_logloss: 1.13352\n",
      "\n",
      "Fold 3/5\n",
      "Training until validation scores don't improve for 125 rounds\n",
      "Did not meet early stopping. Best iteration is:\n",
      "[104]\tvalid_0's multi_logloss: 1.13345\n",
      "\n",
      "Fold 4/5\n",
      "Training until validation scores don't improve for 125 rounds\n",
      "Did not meet early stopping. Best iteration is:\n",
      "[104]\tvalid_0's multi_logloss: 1.14265\n",
      "\n",
      "Fold 5/5\n",
      "Training until validation scores don't improve for 125 rounds\n",
      "Did not meet early stopping. Best iteration is:\n",
      "[104]\tvalid_0's multi_logloss: 1.19525\n"
     ]
    },
    {
     "name": "stderr",
     "output_type": "stream",
     "text": [
      "[I 2025-06-13 21:59:53,415] Trial 9 finished with value: 0.7466339299274527 and parameters: {'n_estimators': 104, 'learning_rate': 0.05284735110353609, 'max_depth': 6, 'num_leaves': 105, 'min_child_samples': 56, 'subsample': 0.5760600771913582, 'colsample_bytree': 0.60884552518417, 'reg_lambda': 1.6523858407823062e-05, 'reg_alpha': 7.004893711147589e-07, 'stopping_rounds': 125, 'min_delta': 0.000112901823067405}. Best is trial 4 with value: 0.7623353411878286.\n"
     ]
    },
    {
     "name": "stdout",
     "output_type": "stream",
     "text": [
      "\n",
      "Fold 1/5\n",
      "Training until validation scores don't improve for 50 rounds\n",
      "Early stopping, best iteration is:\n",
      "[1072]\tvalid_0's multi_logloss: 1.1169\n",
      "\n",
      "Fold 2/5\n",
      "Training until validation scores don't improve for 50 rounds\n",
      "Early stopping, best iteration is:\n",
      "[1003]\tvalid_0's multi_logloss: 1.12107\n",
      "\n",
      "Fold 3/5\n",
      "Training until validation scores don't improve for 50 rounds\n",
      "Early stopping, best iteration is:\n",
      "[1092]\tvalid_0's multi_logloss: 1.09604\n",
      "\n",
      "Fold 4/5\n",
      "Training until validation scores don't improve for 50 rounds\n",
      "Early stopping, best iteration is:\n",
      "[1249]\tvalid_0's multi_logloss: 1.12251\n",
      "\n",
      "Fold 5/5\n",
      "Training until validation scores don't improve for 50 rounds\n",
      "Early stopping, best iteration is:\n",
      "[1000]\tvalid_0's multi_logloss: 1.18572\n"
     ]
    },
    {
     "name": "stderr",
     "output_type": "stream",
     "text": [
      "[I 2025-06-13 22:07:59,866] Trial 10 finished with value: 0.7568818452280894 and parameters: {'n_estimators': 1448, 'learning_rate': 0.01411761561367356, 'max_depth': 12, 'num_leaves': 8, 'min_child_samples': 15, 'subsample': 0.8973366451486467, 'colsample_bytree': 0.7298013801911386, 'reg_lambda': 4.681319189129051e-07, 'reg_alpha': 1.4053274872318018e-07, 'stopping_rounds': 50, 'min_delta': 0.00029220676944601676}. Best is trial 4 with value: 0.7623353411878286.\n"
     ]
    },
    {
     "name": "stdout",
     "output_type": "stream",
     "text": [
      "\n",
      "Fold 1/5\n",
      "Training until validation scores don't improve for 75 rounds\n",
      "Early stopping, best iteration is:\n",
      "[680]\tvalid_0's multi_logloss: 1.10914\n",
      "\n",
      "Fold 2/5\n",
      "Training until validation scores don't improve for 75 rounds\n",
      "Early stopping, best iteration is:\n",
      "[516]\tvalid_0's multi_logloss: 1.1206\n",
      "\n",
      "Fold 3/5\n",
      "Training until validation scores don't improve for 75 rounds\n",
      "Early stopping, best iteration is:\n",
      "[767]\tvalid_0's multi_logloss: 1.09165\n",
      "\n",
      "Fold 4/5\n",
      "Training until validation scores don't improve for 75 rounds\n",
      "Early stopping, best iteration is:\n",
      "[758]\tvalid_0's multi_logloss: 1.09653\n",
      "\n",
      "Fold 5/5\n",
      "Training until validation scores don't improve for 75 rounds\n",
      "Early stopping, best iteration is:\n",
      "[501]\tvalid_0's multi_logloss: 1.18151\n"
     ]
    },
    {
     "name": "stderr",
     "output_type": "stream",
     "text": [
      "[I 2025-06-13 22:13:31,866] Trial 11 finished with value: 0.7571824752124316 and parameters: {'n_estimators': 2673, 'learning_rate': 0.024266834465095186, 'max_depth': 7, 'num_leaves': 8, 'min_child_samples': 73, 'subsample': 0.685724130591427, 'colsample_bytree': 0.8976195304672864, 'reg_lambda': 0.00765837645917984, 'reg_alpha': 5.124882564407685e-06, 'stopping_rounds': 75, 'min_delta': 5.510495115073536e-05}. Best is trial 4 with value: 0.7623353411878286.\n"
     ]
    },
    {
     "name": "stdout",
     "output_type": "stream",
     "text": [
      "\n",
      "Fold 1/5\n",
      "Training until validation scores don't improve for 50 rounds\n",
      "Early stopping, best iteration is:\n",
      "[443]\tvalid_0's multi_logloss: 1.09602\n",
      "\n",
      "Fold 2/5\n",
      "Training until validation scores don't improve for 50 rounds\n",
      "Early stopping, best iteration is:\n",
      "[437]\tvalid_0's multi_logloss: 1.11145\n",
      "\n",
      "Fold 3/5\n",
      "Training until validation scores don't improve for 50 rounds\n",
      "Early stopping, best iteration is:\n",
      "[440]\tvalid_0's multi_logloss: 1.10066\n",
      "\n",
      "Fold 4/5\n",
      "Training until validation scores don't improve for 50 rounds\n",
      "Early stopping, best iteration is:\n",
      "[546]\tvalid_0's multi_logloss: 1.10285\n",
      "\n",
      "Fold 5/5\n",
      "Training until validation scores don't improve for 50 rounds\n",
      "Early stopping, best iteration is:\n",
      "[408]\tvalid_0's multi_logloss: 1.16464\n"
     ]
    },
    {
     "name": "stderr",
     "output_type": "stream",
     "text": [
      "[I 2025-06-13 22:16:51,168] Trial 12 finished with value: 0.7590929396109033 and parameters: {'n_estimators': 1822, 'learning_rate': 0.03262258305315243, 'max_depth': 4, 'num_leaves': 16, 'min_child_samples': 75, 'subsample': 0.5248312412261793, 'colsample_bytree': 0.7520091841508054, 'reg_lambda': 0.0010621433410301178, 'reg_alpha': 5.012130800842941e-05, 'stopping_rounds': 50, 'min_delta': 5.045962661379665e-05}. Best is trial 4 with value: 0.7623353411878286.\n"
     ]
    },
    {
     "name": "stdout",
     "output_type": "stream",
     "text": [
      "\n",
      "Fold 1/5\n",
      "Training until validation scores don't improve for 100 rounds\n",
      "Early stopping, best iteration is:\n",
      "[354]\tvalid_0's multi_logloss: 1.13766\n",
      "\n",
      "Fold 2/5\n",
      "Training until validation scores don't improve for 100 rounds\n",
      "Early stopping, best iteration is:\n",
      "[324]\tvalid_0's multi_logloss: 1.13598\n",
      "\n",
      "Fold 3/5\n",
      "Training until validation scores don't improve for 100 rounds\n",
      "Early stopping, best iteration is:\n",
      "[357]\tvalid_0's multi_logloss: 1.13535\n",
      "\n",
      "Fold 4/5\n",
      "Training until validation scores don't improve for 100 rounds\n",
      "Early stopping, best iteration is:\n",
      "[348]\tvalid_0's multi_logloss: 1.13082\n",
      "\n",
      "Fold 5/5\n",
      "Training until validation scores don't improve for 100 rounds\n",
      "Early stopping, best iteration is:\n",
      "[318]\tvalid_0's multi_logloss: 1.1859\n"
     ]
    },
    {
     "name": "stderr",
     "output_type": "stream",
     "text": [
      "[I 2025-06-13 22:32:38,295] Trial 13 finished with value: 0.7564892157325785 and parameters: {'n_estimators': 702, 'learning_rate': 0.014468116492906807, 'max_depth': 11, 'num_leaves': 125, 'min_child_samples': 31, 'subsample': 0.6911792542370003, 'colsample_bytree': 0.8306730360241403, 'reg_lambda': 1.8261852893713503e-06, 'reg_alpha': 8.195706142628383e-07, 'stopping_rounds': 100, 'min_delta': 0.00027234451855616333}. Best is trial 4 with value: 0.7623353411878286.\n"
     ]
    },
    {
     "name": "stdout",
     "output_type": "stream",
     "text": [
      "\n",
      "Fold 1/5\n",
      "Training until validation scores don't improve for 75 rounds\n",
      "Early stopping, best iteration is:\n",
      "[239]\tvalid_0's multi_logloss: 1.09715\n",
      "\n",
      "Fold 2/5\n",
      "Training until validation scores don't improve for 75 rounds\n",
      "Early stopping, best iteration is:\n",
      "[242]\tvalid_0's multi_logloss: 1.10428\n",
      "\n",
      "Fold 3/5\n",
      "Training until validation scores don't improve for 75 rounds\n",
      "Early stopping, best iteration is:\n",
      "[255]\tvalid_0's multi_logloss: 1.1029\n",
      "\n",
      "Fold 4/5\n",
      "Training until validation scores don't improve for 75 rounds\n",
      "Early stopping, best iteration is:\n",
      "[278]\tvalid_0's multi_logloss: 1.0955\n",
      "\n",
      "Fold 5/5\n",
      "Training until validation scores don't improve for 75 rounds\n",
      "Early stopping, best iteration is:\n",
      "[226]\tvalid_0's multi_logloss: 1.16269\n"
     ]
    },
    {
     "name": "stderr",
     "output_type": "stream",
     "text": [
      "[I 2025-06-13 22:38:28,967] Trial 14 finished with value: 0.7592086294531488 and parameters: {'n_estimators': 2019, 'learning_rate': 0.025419190183234727, 'max_depth': 8, 'num_leaves': 46, 'min_child_samples': 53, 'subsample': 0.7672489531806909, 'colsample_bytree': 0.7791000125155915, 'reg_lambda': 0.00038537440254300047, 'reg_alpha': 4.3612182851979314e-05, 'stopping_rounds': 75, 'min_delta': 0.0009948455826276528}. Best is trial 4 with value: 0.7623353411878286.\n"
     ]
    },
    {
     "name": "stdout",
     "output_type": "stream",
     "text": [
      "\n",
      "Fold 1/5\n",
      "Training until validation scores don't improve for 125 rounds\n",
      "Early stopping, best iteration is:\n",
      "[180]\tvalid_0's multi_logloss: 1.12203\n",
      "\n",
      "Fold 2/5\n",
      "Training until validation scores don't improve for 125 rounds\n",
      "Early stopping, best iteration is:\n",
      "[189]\tvalid_0's multi_logloss: 1.11638\n",
      "\n",
      "Fold 3/5\n",
      "Training until validation scores don't improve for 125 rounds\n",
      "Early stopping, best iteration is:\n",
      "[217]\tvalid_0's multi_logloss: 1.10356\n",
      "\n",
      "Fold 4/5\n",
      "Training until validation scores don't improve for 125 rounds\n",
      "Early stopping, best iteration is:\n",
      "[226]\tvalid_0's multi_logloss: 1.12731\n",
      "\n",
      "Fold 5/5\n",
      "Training until validation scores don't improve for 125 rounds\n",
      "Early stopping, best iteration is:\n",
      "[163]\tvalid_0's multi_logloss: 1.18673\n"
     ]
    },
    {
     "name": "stderr",
     "output_type": "stream",
     "text": [
      "[I 2025-06-13 22:42:02,806] Trial 15 finished with value: 0.754652979890848 and parameters: {'n_estimators': 585, 'learning_rate': 0.04795315995066525, 'max_depth': 7, 'num_leaves': 16, 'min_child_samples': 16, 'subsample': 0.6540608865072307, 'colsample_bytree': 0.6927708877554071, 'reg_lambda': 0.006554502035003612, 'reg_alpha': 1.1395912544964752e-07, 'stopping_rounds': 125, 'min_delta': 7.806479735457946e-05}. Best is trial 4 with value: 0.7623353411878286.\n"
     ]
    },
    {
     "name": "stdout",
     "output_type": "stream",
     "text": [
      "\n",
      "Fold 1/5\n",
      "Training until validation scores don't improve for 50 rounds\n",
      "Early stopping, best iteration is:\n",
      "[456]\tvalid_0's multi_logloss: 1.11064\n",
      "\n",
      "Fold 2/5\n",
      "Training until validation scores don't improve for 50 rounds\n",
      "Early stopping, best iteration is:\n",
      "[414]\tvalid_0's multi_logloss: 1.12116\n",
      "\n",
      "Fold 3/5\n",
      "Training until validation scores don't improve for 50 rounds\n",
      "Early stopping, best iteration is:\n",
      "[515]\tvalid_0's multi_logloss: 1.10781\n",
      "\n",
      "Fold 4/5\n",
      "Training until validation scores don't improve for 50 rounds\n",
      "Early stopping, best iteration is:\n",
      "[512]\tvalid_0's multi_logloss: 1.11862\n",
      "\n",
      "Fold 5/5\n",
      "Training until validation scores don't improve for 50 rounds\n",
      "Early stopping, best iteration is:\n",
      "[388]\tvalid_0's multi_logloss: 1.18525\n"
     ]
    },
    {
     "name": "stderr",
     "output_type": "stream",
     "text": [
      "[I 2025-06-13 22:47:56,909] Trial 16 finished with value: 0.7545486984348636 and parameters: {'n_estimators': 1327, 'learning_rate': 0.02066937921212966, 'max_depth': 5, 'num_leaves': 50, 'min_child_samples': 38, 'subsample': 0.8632001594636078, 'colsample_bytree': 0.8687612601294241, 'reg_lambda': 4.5668538946211455e-06, 'reg_alpha': 3.1282370168316313e-06, 'stopping_rounds': 50, 'min_delta': 0.00020094201945387524}. Best is trial 4 with value: 0.7623353411878286.\n"
     ]
    },
    {
     "name": "stdout",
     "output_type": "stream",
     "text": [
      "\n",
      "Fold 1/5\n",
      "Training until validation scores don't improve for 100 rounds\n",
      "Early stopping, best iteration is:\n",
      "[179]\tvalid_0's multi_logloss: 1.10056\n",
      "\n",
      "Fold 2/5\n",
      "Training until validation scores don't improve for 100 rounds\n",
      "Early stopping, best iteration is:\n",
      "[184]\tvalid_0's multi_logloss: 1.09891\n",
      "\n",
      "Fold 3/5\n",
      "Training until validation scores don't improve for 100 rounds\n",
      "Early stopping, best iteration is:\n",
      "[169]\tvalid_0's multi_logloss: 1.10818\n",
      "\n",
      "Fold 4/5\n",
      "Training until validation scores don't improve for 100 rounds\n",
      "Early stopping, best iteration is:\n",
      "[201]\tvalid_0's multi_logloss: 1.09441\n",
      "\n",
      "Fold 5/5\n",
      "Training until validation scores don't improve for 100 rounds\n",
      "Early stopping, best iteration is:\n",
      "[161]\tvalid_0's multi_logloss: 1.15879\n"
     ]
    },
    {
     "name": "stderr",
     "output_type": "stream",
     "text": [
      "[I 2025-06-13 22:52:41,812] Trial 17 finished with value: 0.7591359213670921 and parameters: {'n_estimators': 1917, 'learning_rate': 0.03704089539274714, 'max_depth': 8, 'num_leaves': 136, 'min_child_samples': 65, 'subsample': 0.5011327761606154, 'colsample_bytree': 0.8055525237317459, 'reg_lambda': 5.112473870574771e-07, 'reg_alpha': 1.904501773314247e-05, 'stopping_rounds': 100, 'min_delta': 0.00021478082371731511}. Best is trial 4 with value: 0.7623353411878286.\n"
     ]
    },
    {
     "name": "stdout",
     "output_type": "stream",
     "text": [
      "\n",
      "Fold 1/5\n",
      "Training until validation scores don't improve for 150 rounds\n",
      "Early stopping, best iteration is:\n",
      "[113]\tvalid_0's multi_logloss: 1.13032\n",
      "\n",
      "Fold 2/5\n",
      "Training until validation scores don't improve for 150 rounds\n",
      "Early stopping, best iteration is:\n",
      "[116]\tvalid_0's multi_logloss: 1.13225\n",
      "\n",
      "Fold 3/5\n",
      "Training until validation scores don't improve for 150 rounds\n",
      "Early stopping, best iteration is:\n",
      "[134]\tvalid_0's multi_logloss: 1.12496\n",
      "\n",
      "Fold 4/5\n",
      "Training until validation scores don't improve for 150 rounds\n",
      "Early stopping, best iteration is:\n",
      "[124]\tvalid_0's multi_logloss: 1.12919\n",
      "\n",
      "Fold 5/5\n",
      "Training until validation scores don't improve for 150 rounds\n",
      "Early stopping, best iteration is:\n",
      "[100]\tvalid_0's multi_logloss: 1.19301\n"
     ]
    },
    {
     "name": "stderr",
     "output_type": "stream",
     "text": [
      "[I 2025-06-13 22:56:43,920] Trial 18 finished with value: 0.7532654483943867 and parameters: {'n_estimators': 826, 'learning_rate': 0.05510999337130016, 'max_depth': 11, 'num_leaves': 24, 'min_child_samples': 25, 'subsample': 0.8320782447777275, 'colsample_bytree': 0.7334277405551818, 'reg_lambda': 0.0017740832575445012, 'reg_alpha': 1.598108454967352e-06, 'stopping_rounds': 150, 'min_delta': 0.0003545065923363286}. Best is trial 4 with value: 0.7623353411878286.\n"
     ]
    },
    {
     "name": "stdout",
     "output_type": "stream",
     "text": [
      "\n",
      "Fold 1/5\n",
      "Training until validation scores don't improve for 75 rounds\n",
      "Early stopping, best iteration is:\n",
      "[465]\tvalid_0's multi_logloss: 1.11205\n",
      "\n",
      "Fold 2/5\n",
      "Training until validation scores don't improve for 75 rounds\n",
      "Early stopping, best iteration is:\n",
      "[438]\tvalid_0's multi_logloss: 1.11088\n",
      "\n",
      "Fold 3/5\n",
      "Training until validation scores don't improve for 75 rounds\n",
      "Early stopping, best iteration is:\n",
      "[444]\tvalid_0's multi_logloss: 1.10551\n",
      "\n",
      "Fold 4/5\n",
      "Training until validation scores don't improve for 75 rounds\n",
      "Early stopping, best iteration is:\n",
      "[483]\tvalid_0's multi_logloss: 1.1124\n",
      "\n",
      "Fold 5/5\n",
      "Training until validation scores don't improve for 75 rounds\n",
      "Early stopping, best iteration is:\n",
      "[399]\tvalid_0's multi_logloss: 1.16545\n"
     ]
    },
    {
     "name": "stderr",
     "output_type": "stream",
     "text": [
      "[I 2025-06-13 23:03:03,437] Trial 19 finished with value: 0.758424919378493 and parameters: {'n_estimators': 2215, 'learning_rate': 0.018057471373284582, 'max_depth': 6, 'num_leaves': 67, 'min_child_samples': 39, 'subsample': 0.73152305114726, 'colsample_bytree': 0.6920882439977584, 'reg_lambda': 0.0001645120195533117, 'reg_alpha': 9.581621508105273e-05, 'stopping_rounds': 75, 'min_delta': 6.843436754458299e-05}. Best is trial 4 with value: 0.7623353411878286.\n"
     ]
    },
    {
     "name": "stdout",
     "output_type": "stream",
     "text": [
      "\n",
      "Fold 1/5\n",
      "Training until validation scores don't improve for 50 rounds\n",
      "Early stopping, best iteration is:\n",
      "[808]\tvalid_0's multi_logloss: 1.1147\n",
      "\n",
      "Fold 2/5\n",
      "Training until validation scores don't improve for 50 rounds\n",
      "Early stopping, best iteration is:\n",
      "[629]\tvalid_0's multi_logloss: 1.13945\n",
      "\n",
      "Fold 3/5\n",
      "Training until validation scores don't improve for 50 rounds\n",
      "Early stopping, best iteration is:\n",
      "[669]\tvalid_0's multi_logloss: 1.09799\n",
      "\n",
      "Fold 4/5\n",
      "Training until validation scores don't improve for 50 rounds\n",
      "Early stopping, best iteration is:\n",
      "[706]\tvalid_0's multi_logloss: 1.12539\n",
      "\n",
      "Fold 5/5\n",
      "Training until validation scores don't improve for 50 rounds\n",
      "Early stopping, best iteration is:\n",
      "[565]\tvalid_0's multi_logloss: 1.17719\n"
     ]
    },
    {
     "name": "stderr",
     "output_type": "stream",
     "text": [
      "[I 2025-06-13 23:06:46,587] Trial 20 finished with value: 0.7522993228858613 and parameters: {'n_estimators': 1473, 'learning_rate': 0.03129940463754268, 'max_depth': 3, 'num_leaves': 12, 'min_child_samples': 51, 'subsample': 0.5794869696860573, 'colsample_bytree': 0.8461325889219944, 'reg_lambda': 1.1264369362008843e-07, 'reg_alpha': 0.009746491987285482, 'stopping_rounds': 50, 'min_delta': 0.0004422132822495678}. Best is trial 4 with value: 0.7623353411878286.\n"
     ]
    },
    {
     "name": "stdout",
     "output_type": "stream",
     "text": [
      "\n",
      "Fold 1/5\n",
      "Training until validation scores don't improve for 75 rounds\n",
      "Early stopping, best iteration is:\n",
      "[280]\tvalid_0's multi_logloss: 1.08708\n",
      "\n",
      "Fold 2/5\n",
      "Training until validation scores don't improve for 75 rounds\n",
      "Early stopping, best iteration is:\n",
      "[254]\tvalid_0's multi_logloss: 1.09794\n",
      "\n",
      "Fold 3/5\n",
      "Training until validation scores don't improve for 75 rounds\n",
      "Early stopping, best iteration is:\n",
      "[288]\tvalid_0's multi_logloss: 1.09041\n",
      "\n",
      "Fold 4/5\n",
      "Training until validation scores don't improve for 75 rounds\n",
      "Early stopping, best iteration is:\n",
      "[303]\tvalid_0's multi_logloss: 1.09218\n",
      "\n",
      "Fold 5/5\n",
      "Training until validation scores don't improve for 75 rounds\n",
      "Early stopping, best iteration is:\n",
      "[242]\tvalid_0's multi_logloss: 1.15123\n"
     ]
    },
    {
     "name": "stderr",
     "output_type": "stream",
     "text": [
      "[I 2025-06-13 23:12:11,994] Trial 21 finished with value: 0.7606034625834657 and parameters: {'n_estimators': 2094, 'learning_rate': 0.02578843509298548, 'max_depth': 8, 'num_leaves': 42, 'min_child_samples': 67, 'subsample': 0.7713993198602533, 'colsample_bytree': 0.7774626111124336, 'reg_lambda': 0.00026378614896507575, 'reg_alpha': 7.691372709612616e-06, 'stopping_rounds': 75, 'min_delta': 0.0008947003170286}. Best is trial 4 with value: 0.7623353411878286.\n"
     ]
    },
    {
     "name": "stdout",
     "output_type": "stream",
     "text": [
      "\n",
      "Fold 1/5\n",
      "Training until validation scores don't improve for 75 rounds\n",
      "Early stopping, best iteration is:\n",
      "[388]\tvalid_0's multi_logloss: 1.0746\n",
      "\n",
      "Fold 2/5\n",
      "Training until validation scores don't improve for 75 rounds\n",
      "Early stopping, best iteration is:\n",
      "[403]\tvalid_0's multi_logloss: 1.09679\n",
      "\n",
      "Fold 3/5\n",
      "Training until validation scores don't improve for 75 rounds\n",
      "Early stopping, best iteration is:\n",
      "[449]\tvalid_0's multi_logloss: 1.08431\n",
      "\n",
      "Fold 4/5\n",
      "Training until validation scores don't improve for 75 rounds\n",
      "Early stopping, best iteration is:\n",
      "[474]\tvalid_0's multi_logloss: 1.08457\n",
      "\n",
      "Fold 5/5\n",
      "Training until validation scores don't improve for 75 rounds\n",
      "Early stopping, best iteration is:\n",
      "[376]\tvalid_0's multi_logloss: 1.14823\n"
     ]
    },
    {
     "name": "stderr",
     "output_type": "stream",
     "text": [
      "[I 2025-06-13 23:19:34,048] Trial 22 finished with value: 0.7602862114758437 and parameters: {'n_estimators': 2754, 'learning_rate': 0.01701682344309872, 'max_depth': 8, 'num_leaves': 34, 'min_child_samples': 68, 'subsample': 0.8875491562485052, 'colsample_bytree': 0.7644502840210955, 'reg_lambda': 0.00018679029439277808, 'reg_alpha': 8.559283904944884e-06, 'stopping_rounds': 75, 'min_delta': 0.0009896014658215694}. Best is trial 4 with value: 0.7623353411878286.\n"
     ]
    },
    {
     "name": "stdout",
     "output_type": "stream",
     "text": [
      "\n",
      "Fold 1/5\n",
      "Training until validation scores don't improve for 100 rounds\n",
      "Early stopping, best iteration is:\n",
      "[508]\tvalid_0's multi_logloss: 1.07866\n",
      "\n",
      "Fold 2/5\n",
      "Training until validation scores don't improve for 100 rounds\n",
      "Early stopping, best iteration is:\n",
      "[497]\tvalid_0's multi_logloss: 1.08998\n",
      "\n",
      "Fold 3/5\n",
      "Training until validation scores don't improve for 100 rounds\n",
      "Early stopping, best iteration is:\n",
      "[503]\tvalid_0's multi_logloss: 1.0855\n",
      "\n",
      "Fold 4/5\n",
      "Training until validation scores don't improve for 100 rounds\n",
      "Early stopping, best iteration is:\n",
      "[568]\tvalid_0's multi_logloss: 1.08191\n",
      "\n",
      "Fold 5/5\n",
      "Training until validation scores don't improve for 100 rounds\n",
      "Early stopping, best iteration is:\n",
      "[453]\tvalid_0's multi_logloss: 1.14985\n"
     ]
    },
    {
     "name": "stderr",
     "output_type": "stream",
     "text": [
      "[I 2025-06-13 23:30:18,540] Trial 23 finished with value: 0.763139819038873 and parameters: {'n_estimators': 1601, 'learning_rate': 0.012502527035230948, 'max_depth': 10, 'num_leaves': 56, 'min_child_samples': 70, 'subsample': 0.819484245856843, 'colsample_bytree': 0.8043769543397135, 'reg_lambda': 0.0031523588243255293, 'reg_alpha': 3.094663101246672e-07, 'stopping_rounds': 100, 'min_delta': 0.0006180506283718214}. Best is trial 23 with value: 0.763139819038873.\n"
     ]
    },
    {
     "name": "stdout",
     "output_type": "stream",
     "text": [
      "\n",
      "Fold 1/5\n",
      "Training until validation scores don't improve for 125 rounds\n",
      "Did not meet early stopping. Best iteration is:\n",
      "[441]\tvalid_0's multi_logloss: 1.08196\n",
      "\n",
      "Fold 2/5\n",
      "Training until validation scores don't improve for 125 rounds\n",
      "Did not meet early stopping. Best iteration is:\n",
      "[438]\tvalid_0's multi_logloss: 1.10026\n",
      "\n",
      "Fold 3/5\n",
      "Training until validation scores don't improve for 125 rounds\n",
      "Did not meet early stopping. Best iteration is:\n",
      "[439]\tvalid_0's multi_logloss: 1.09948\n",
      "\n",
      "Fold 4/5\n",
      "Training until validation scores don't improve for 125 rounds\n",
      "Did not meet early stopping. Best iteration is:\n",
      "[437]\tvalid_0's multi_logloss: 1.08974\n",
      "\n",
      "Fold 5/5\n",
      "Training until validation scores don't improve for 125 rounds\n",
      "Did not meet early stopping. Best iteration is:\n",
      "[435]\tvalid_0's multi_logloss: 1.15313\n"
     ]
    },
    {
     "name": "stderr",
     "output_type": "stream",
     "text": [
      "[I 2025-06-13 23:38:22,638] Trial 24 finished with value: 0.757546603491069 and parameters: {'n_estimators': 442, 'learning_rate': 0.012619105647439201, 'max_depth': 11, 'num_leaves': 59, 'min_child_samples': 71, 'subsample': 0.8252424196360045, 'colsample_bytree': 0.8123644313086912, 'reg_lambda': 0.003133151117468254, 'reg_alpha': 3.0259543548367533e-07, 'stopping_rounds': 125, 'min_delta': 0.0006804167092570425}. Best is trial 23 with value: 0.763139819038873.\n"
     ]
    },
    {
     "name": "stdout",
     "output_type": "stream",
     "text": [
      "\n",
      "Fold 1/5\n",
      "Training until validation scores don't improve for 100 rounds\n",
      "Early stopping, best iteration is:\n",
      "[156]\tvalid_0's multi_logloss: 1.11891\n",
      "\n",
      "Fold 2/5\n",
      "Training until validation scores don't improve for 100 rounds\n",
      "Early stopping, best iteration is:\n",
      "[131]\tvalid_0's multi_logloss: 1.11161\n",
      "\n",
      "Fold 3/5\n",
      "Training until validation scores don't improve for 100 rounds\n",
      "Early stopping, best iteration is:\n",
      "[136]\tvalid_0's multi_logloss: 1.1221\n",
      "\n",
      "Fold 4/5\n",
      "Training until validation scores don't improve for 100 rounds\n",
      "Early stopping, best iteration is:\n",
      "[152]\tvalid_0's multi_logloss: 1.10431\n",
      "\n",
      "Fold 5/5\n",
      "Training until validation scores don't improve for 100 rounds\n",
      "Early stopping, best iteration is:\n",
      "[118]\tvalid_0's multi_logloss: 1.16886\n"
     ]
    },
    {
     "name": "stderr",
     "output_type": "stream",
     "text": [
      "[I 2025-06-13 23:43:12,323] Trial 25 finished with value: 0.7577737906164438 and parameters: {'n_estimators': 1107, 'learning_rate': 0.04379019485278034, 'max_depth': 10, 'num_leaves': 91, 'min_child_samples': 60, 'subsample': 0.8635231128688515, 'colsample_bytree': 0.8618422621448844, 'reg_lambda': 0.0024212601113292867, 'reg_alpha': 1.8407438795269805e-06, 'stopping_rounds': 100, 'min_delta': 0.00018557416253723103}. Best is trial 23 with value: 0.763139819038873.\n"
     ]
    },
    {
     "name": "stdout",
     "output_type": "stream",
     "text": [
      "\n",
      "Fold 1/5\n",
      "Training until validation scores don't improve for 100 rounds\n",
      "Early stopping, best iteration is:\n",
      "[357]\tvalid_0's multi_logloss: 1.0783\n",
      "\n",
      "Fold 2/5\n",
      "Training until validation scores don't improve for 100 rounds\n",
      "Early stopping, best iteration is:\n",
      "[367]\tvalid_0's multi_logloss: 1.09622\n",
      "\n",
      "Fold 3/5\n",
      "Training until validation scores don't improve for 100 rounds\n",
      "Early stopping, best iteration is:\n",
      "[357]\tvalid_0's multi_logloss: 1.09576\n",
      "\n",
      "Fold 4/5\n",
      "Training until validation scores don't improve for 100 rounds\n",
      "Early stopping, best iteration is:\n",
      "[400]\tvalid_0's multi_logloss: 1.08499\n",
      "\n",
      "Fold 5/5\n",
      "Training until validation scores don't improve for 100 rounds\n",
      "Early stopping, best iteration is:\n",
      "[319]\tvalid_0's multi_logloss: 1.15244\n"
     ]
    },
    {
     "name": "stderr",
     "output_type": "stream",
     "text": [
      "[I 2025-06-13 23:51:48,516] Trial 26 finished with value: 0.7594820658212992 and parameters: {'n_estimators': 1501, 'learning_rate': 0.017074840727022336, 'max_depth': 10, 'num_leaves': 161, 'min_child_samples': 61, 'subsample': 0.806488228353325, 'colsample_bytree': 0.7253464084500004, 'reg_lambda': 6.128485391032119e-05, 'reg_alpha': 3.4816066173144697e-07, 'stopping_rounds': 100, 'min_delta': 0.00038137851547786095}. Best is trial 23 with value: 0.763139819038873.\n"
     ]
    },
    {
     "name": "stdout",
     "output_type": "stream",
     "text": [
      "\n",
      "Fold 1/5\n",
      "Training until validation scores don't improve for 125 rounds\n",
      "Early stopping, best iteration is:\n",
      "[942]\tvalid_0's multi_logloss: 1.10004\n",
      "\n",
      "Fold 2/5\n",
      "Training until validation scores don't improve for 125 rounds\n",
      "Early stopping, best iteration is:\n",
      "[845]\tvalid_0's multi_logloss: 1.11094\n",
      "\n",
      "Fold 3/5\n",
      "Training until validation scores don't improve for 125 rounds\n",
      "Early stopping, best iteration is:\n",
      "[874]\tvalid_0's multi_logloss: 1.09073\n",
      "\n",
      "Fold 4/5\n",
      "Training until validation scores don't improve for 125 rounds\n",
      "Did not meet early stopping. Best iteration is:\n",
      "[1062]\tvalid_0's multi_logloss: 1.09883\n",
      "\n",
      "Fold 5/5\n",
      "Training until validation scores don't improve for 125 rounds\n",
      "Early stopping, best iteration is:\n",
      "[746]\tvalid_0's multi_logloss: 1.17159\n"
     ]
    },
    {
     "name": "stderr",
     "output_type": "stream",
     "text": [
      "[I 2025-06-14 00:01:12,262] Trial 27 finished with value: 0.7582046471210176 and parameters: {'n_estimators': 1075, 'learning_rate': 0.012944515042592992, 'max_depth': 12, 'num_leaves': 11, 'min_child_samples': 70, 'subsample': 0.7362216055825691, 'colsample_bytree': 0.8846350870109971, 'reg_lambda': 0.0007571256055243533, 'reg_alpha': 1.4643470436370924e-06, 'stopping_rounds': 125, 'min_delta': 0.00010103346044915169}. Best is trial 23 with value: 0.763139819038873.\n"
     ]
    },
    {
     "name": "stdout",
     "output_type": "stream",
     "text": [
      "\n",
      "Fold 1/5\n",
      "Training until validation scores don't improve for 100 rounds\n",
      "Early stopping, best iteration is:\n",
      "[135]\tvalid_0's multi_logloss: 1.11693\n",
      "\n",
      "Fold 2/5\n",
      "Training until validation scores don't improve for 100 rounds\n",
      "Early stopping, best iteration is:\n",
      "[126]\tvalid_0's multi_logloss: 1.09984\n",
      "\n",
      "Fold 3/5\n",
      "Training until validation scores don't improve for 100 rounds\n",
      "Early stopping, best iteration is:\n",
      "[136]\tvalid_0's multi_logloss: 1.11158\n",
      "\n",
      "Fold 4/5\n",
      "Training until validation scores don't improve for 100 rounds\n",
      "Early stopping, best iteration is:\n",
      "[164]\tvalid_0's multi_logloss: 1.0922\n",
      "\n",
      "Fold 5/5\n",
      "Training until validation scores don't improve for 100 rounds\n",
      "Early stopping, best iteration is:\n",
      "[120]\tvalid_0's multi_logloss: 1.15688\n"
     ]
    },
    {
     "name": "stderr",
     "output_type": "stream",
     "text": [
      "[I 2025-06-14 00:03:57,725] Trial 28 finished with value: 0.7571927497500148 and parameters: {'n_estimators': 771, 'learning_rate': 0.06136548711735825, 'max_depth': 7, 'num_leaves': 22, 'min_child_samples': 75, 'subsample': 0.6378275279596228, 'colsample_bytree': 0.8191409556847522, 'reg_lambda': 0.009782804501489849, 'reg_alpha': 1.7377757855552607e-07, 'stopping_rounds': 100, 'min_delta': 0.0002608987494311041}. Best is trial 23 with value: 0.763139819038873.\n"
     ]
    },
    {
     "name": "stdout",
     "output_type": "stream",
     "text": [
      "\n",
      "Fold 1/5\n",
      "Training until validation scores don't improve for 125 rounds\n",
      "Early stopping, best iteration is:\n",
      "[305]\tvalid_0's multi_logloss: 1.08759\n",
      "\n",
      "Fold 2/5\n",
      "Training until validation scores don't improve for 125 rounds\n",
      "Early stopping, best iteration is:\n",
      "[273]\tvalid_0's multi_logloss: 1.09725\n",
      "\n",
      "Fold 3/5\n",
      "Training until validation scores don't improve for 125 rounds\n",
      "Early stopping, best iteration is:\n",
      "[314]\tvalid_0's multi_logloss: 1.09612\n",
      "\n",
      "Fold 4/5\n",
      "Training until validation scores don't improve for 125 rounds\n",
      "Early stopping, best iteration is:\n",
      "[375]\tvalid_0's multi_logloss: 1.08775\n",
      "\n",
      "Fold 5/5\n",
      "Training until validation scores don't improve for 125 rounds\n",
      "Early stopping, best iteration is:\n",
      "[276]\tvalid_0's multi_logloss: 1.15634\n"
     ]
    },
    {
     "name": "stderr",
     "output_type": "stream",
     "text": [
      "[I 2025-06-14 00:11:26,688] Trial 29 finished with value: 0.7588254514721074 and parameters: {'n_estimators': 1647, 'learning_rate': 0.020749437298195287, 'max_depth': 9, 'num_leaves': 225, 'min_child_samples': 59, 'subsample': 0.8359534496285244, 'colsample_bytree': 0.6616349535947654, 'reg_lambda': 0.003342581891393605, 'reg_alpha': 3.16725158587856e-07, 'stopping_rounds': 125, 'min_delta': 0.0005597279073531592}. Best is trial 23 with value: 0.763139819038873.\n"
     ]
    },
    {
     "name": "stdout",
     "output_type": "stream",
     "text": [
      "\n",
      "Fold 1/5\n",
      "Training until validation scores don't improve for 75 rounds\n",
      "Early stopping, best iteration is:\n",
      "[156]\tvalid_0's multi_logloss: 1.14009\n",
      "\n",
      "Fold 2/5\n",
      "Training until validation scores don't improve for 75 rounds\n",
      "Early stopping, best iteration is:\n",
      "[137]\tvalid_0's multi_logloss: 1.13689\n",
      "\n",
      "Fold 3/5\n",
      "Training until validation scores don't improve for 75 rounds\n",
      "Early stopping, best iteration is:\n",
      "[151]\tvalid_0's multi_logloss: 1.12641\n",
      "\n",
      "Fold 4/5\n",
      "Training until validation scores don't improve for 75 rounds\n",
      "Early stopping, best iteration is:\n",
      "[139]\tvalid_0's multi_logloss: 1.13707\n",
      "\n",
      "Fold 5/5\n",
      "Training until validation scores don't improve for 75 rounds\n",
      "Early stopping, best iteration is:\n",
      "[132]\tvalid_0's multi_logloss: 1.19224\n"
     ]
    },
    {
     "name": "stderr",
     "output_type": "stream",
     "text": [
      "[I 2025-06-14 00:17:24,216] Trial 30 finished with value: 0.7563717132396671 and parameters: {'n_estimators': 1288, 'learning_rate': 0.03667896729076117, 'max_depth': 10, 'num_leaves': 110, 'min_child_samples': 32, 'subsample': 0.8848886077325051, 'colsample_bytree': 0.7486279258610518, 'reg_lambda': 9.165110388934669e-07, 'reg_alpha': 1.0309954729806008e-06, 'stopping_rounds': 75, 'min_delta': 0.00017182722216619665}. Best is trial 23 with value: 0.763139819038873.\n"
     ]
    },
    {
     "name": "stdout",
     "output_type": "stream",
     "text": [
      "\n",
      "Fold 1/5\n",
      "Training until validation scores don't improve for 75 rounds\n",
      "Early stopping, best iteration is:\n",
      "[250]\tvalid_0's multi_logloss: 1.09357\n",
      "\n",
      "Fold 2/5\n",
      "Training until validation scores don't improve for 75 rounds\n",
      "Early stopping, best iteration is:\n",
      "[232]\tvalid_0's multi_logloss: 1.09602\n",
      "\n",
      "Fold 3/5\n",
      "Training until validation scores don't improve for 75 rounds\n",
      "Early stopping, best iteration is:\n",
      "[248]\tvalid_0's multi_logloss: 1.09384\n",
      "\n",
      "Fold 4/5\n",
      "Training until validation scores don't improve for 75 rounds\n",
      "Early stopping, best iteration is:\n",
      "[278]\tvalid_0's multi_logloss: 1.08612\n",
      "\n",
      "Fold 5/5\n",
      "Training until validation scores don't improve for 75 rounds\n",
      "Early stopping, best iteration is:\n",
      "[219]\tvalid_0's multi_logloss: 1.15946\n"
     ]
    },
    {
     "name": "stderr",
     "output_type": "stream",
     "text": [
      "[I 2025-06-14 00:22:24,140] Trial 31 finished with value: 0.7585522468512627 and parameters: {'n_estimators': 2201, 'learning_rate': 0.027286794109652235, 'max_depth': 8, 'num_leaves': 58, 'min_child_samples': 67, 'subsample': 0.7652713082912613, 'colsample_bytree': 0.7813570888749092, 'reg_lambda': 0.0002792126480899983, 'reg_alpha': 5.689773708275408e-06, 'stopping_rounds': 75, 'min_delta': 0.0008148045250780043}. Best is trial 23 with value: 0.763139819038873.\n"
     ]
    },
    {
     "name": "stdout",
     "output_type": "stream",
     "text": [
      "\n",
      "Fold 1/5\n",
      "Training until validation scores don't improve for 50 rounds\n",
      "Early stopping, best iteration is:\n",
      "[291]\tvalid_0's multi_logloss: 1.08558\n",
      "\n",
      "Fold 2/5\n",
      "Training until validation scores don't improve for 50 rounds\n",
      "Early stopping, best iteration is:\n",
      "[269]\tvalid_0's multi_logloss: 1.09799\n",
      "\n",
      "Fold 3/5\n",
      "Training until validation scores don't improve for 50 rounds\n",
      "Early stopping, best iteration is:\n",
      "[312]\tvalid_0's multi_logloss: 1.10046\n",
      "\n",
      "Fold 4/5\n",
      "Training until validation scores don't improve for 50 rounds\n",
      "Early stopping, best iteration is:\n",
      "[371]\tvalid_0's multi_logloss: 1.08501\n",
      "\n",
      "Fold 5/5\n",
      "Training until validation scores don't improve for 50 rounds\n",
      "Early stopping, best iteration is:\n",
      "[263]\tvalid_0's multi_logloss: 1.16022\n"
     ]
    },
    {
     "name": "stderr",
     "output_type": "stream",
     "text": [
      "[I 2025-06-14 00:28:24,859] Trial 32 finished with value: 0.7598298965015046 and parameters: {'n_estimators': 2459, 'learning_rate': 0.021689741810525204, 'max_depth': 9, 'num_leaves': 39, 'min_child_samples': 64, 'subsample': 0.7823856123418962, 'colsample_bytree': 0.7901942966597059, 'reg_lambda': 0.00010042826447518251, 'reg_alpha': 2.161370903152785e-05, 'stopping_rounds': 50, 'min_delta': 0.0007654813930880208}. Best is trial 23 with value: 0.763139819038873.\n"
     ]
    },
    {
     "name": "stdout",
     "output_type": "stream",
     "text": [
      "\n",
      "Fold 1/5\n",
      "Training until validation scores don't improve for 100 rounds\n",
      "Early stopping, best iteration is:\n",
      "[763]\tvalid_0's multi_logloss: 1.09491\n",
      "\n",
      "Fold 2/5\n",
      "Training until validation scores don't improve for 100 rounds\n",
      "Early stopping, best iteration is:\n",
      "[658]\tvalid_0's multi_logloss: 1.10198\n",
      "\n",
      "Fold 3/5\n",
      "Training until validation scores don't improve for 100 rounds\n",
      "Early stopping, best iteration is:\n",
      "[667]\tvalid_0's multi_logloss: 1.09256\n",
      "\n",
      "Fold 4/5\n",
      "Training until validation scores don't improve for 100 rounds\n",
      "Early stopping, best iteration is:\n",
      "[760]\tvalid_0's multi_logloss: 1.1037\n",
      "\n",
      "Fold 5/5\n",
      "Training until validation scores don't improve for 100 rounds\n",
      "Early stopping, best iteration is:\n",
      "[628]\tvalid_0's multi_logloss: 1.16396\n"
     ]
    },
    {
     "name": "stderr",
     "output_type": "stream",
     "text": [
      "[I 2025-06-14 00:35:59,926] Trial 33 finished with value: 0.755954747181512 and parameters: {'n_estimators': 1818, 'learning_rate': 0.015322362562206244, 'max_depth': 5, 'num_leaves': 25, 'min_child_samples': 70, 'subsample': 0.8116907410457788, 'colsample_bytree': 0.7111906804046543, 'reg_lambda': 0.0004616806021190103, 'reg_alpha': 2.5190255537774854e-06, 'stopping_rounds': 100, 'min_delta': 0.0004593490267516708}. Best is trial 23 with value: 0.763139819038873.\n"
     ]
    }
   ],
   "source": [
    "sampler = optuna.samplers.TPESampler(seed=SEED)  \n",
    "study = optuna.create_study(direction='maximize', sampler=sampler)\n",
    "study.optimize(lgbm_objective, n_trials=300, timeout=10800) "
   ]
  },
  {
   "cell_type": "code",
   "execution_count": 16,
   "id": "b4b0d539",
   "metadata": {
    "execution": {
     "iopub.execute_input": "2025-06-14T00:35:59.996151Z",
     "iopub.status.busy": "2025-06-14T00:35:59.995771Z",
     "iopub.status.idle": "2025-06-14T00:36:00.005642Z",
     "shell.execute_reply": "2025-06-14T00:36:00.004372Z"
    },
    "papermill": {
     "duration": 0.043937,
     "end_time": "2025-06-14T00:36:00.007457",
     "exception": false,
     "start_time": "2025-06-14T00:35:59.963520",
     "status": "completed"
    },
    "tags": []
   },
   "outputs": [
    {
     "name": "stdout",
     "output_type": "stream",
     "text": [
      "Best score (objective value): 0.763139819038873\n",
      "Best trial:\n",
      "{'n_estimators': 1601, 'learning_rate': 0.012502527035230948, 'max_depth': 10, 'num_leaves': 56, 'min_child_samples': 70, 'subsample': 0.819484245856843, 'colsample_bytree': 0.8043769543397135, 'reg_lambda': 0.0031523588243255293, 'reg_alpha': 3.094663101246672e-07, 'stopping_rounds': 100, 'min_delta': 0.0006180506283718214}\n"
     ]
    },
    {
     "data": {
      "text/plain": [
       "['baseline_lgbm_params.joblib']"
      ]
     },
     "execution_count": 16,
     "metadata": {},
     "output_type": "execute_result"
    }
   ],
   "source": [
    "# Best result\n",
    "print(\"Best score (objective value):\", study.best_value)\n",
    "print(\"Best trial:\")\n",
    "print(study.best_trial.params)\n",
    "\n",
    "joblib.dump(study.best_params, \"baseline_lgbm_params.joblib\")"
   ]
  }
 ],
 "metadata": {
  "kaggle": {
   "accelerator": "none",
   "dataSources": [
    {
     "databundleVersionId": 12518947,
     "sourceId": 102335,
     "sourceType": "competition"
    },
    {
     "sourceId": 244990358,
     "sourceType": "kernelVersion"
    }
   ],
   "dockerImageVersionId": 31040,
   "isGpuEnabled": false,
   "isInternetEnabled": true,
   "language": "python",
   "sourceType": "notebook"
  },
  "kernelspec": {
   "display_name": "Python 3",
   "language": "python",
   "name": "python3"
  },
  "language_info": {
   "codemirror_mode": {
    "name": "ipython",
    "version": 3
   },
   "file_extension": ".py",
   "mimetype": "text/x-python",
   "name": "python",
   "nbconvert_exporter": "python",
   "pygments_lexer": "ipython3",
   "version": "3.11.11"
  },
  "papermill": {
   "default_parameters": {},
   "duration": 11320.136999,
   "end_time": "2025-06-14T00:36:01.174044",
   "environment_variables": {},
   "exception": null,
   "input_path": "__notebook__.ipynb",
   "output_path": "__notebook__.ipynb",
   "parameters": {},
   "start_time": "2025-06-13T21:27:21.037045",
   "version": "2.6.0"
  }
 },
 "nbformat": 4,
 "nbformat_minor": 5
}
