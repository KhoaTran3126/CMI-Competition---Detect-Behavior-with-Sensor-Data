{
 "cells": [
  {
   "cell_type": "code",
   "execution_count": 1,
   "id": "33eaf235",
   "metadata": {
    "_cell_guid": "b1076dfc-b9ad-4769-8c92-a6c4dae69d19",
    "_uuid": "8f2839f25d086af736a60e9eeb907d3b93b6e0e5",
    "execution": {
     "iopub.execute_input": "2025-06-21T01:22:03.339996Z",
     "iopub.status.busy": "2025-06-21T01:22:03.339608Z",
     "iopub.status.idle": "2025-06-21T01:22:13.021045Z",
     "shell.execute_reply": "2025-06-21T01:22:13.020132Z"
    },
    "papermill": {
     "duration": 9.688624,
     "end_time": "2025-06-21T01:22:13.022866",
     "exception": false,
     "start_time": "2025-06-21T01:22:03.334242",
     "status": "completed"
    },
    "tags": []
   },
   "outputs": [],
   "source": [
    "import numpy as np\n",
    "import pandas as pd\n",
    "import polars as pl\n",
    "import torch\n",
    "import torch.nn.functional as F\n",
    "import joblib\n",
    "from sklearn.preprocessing import StandardScaler"
   ]
  },
  {
   "cell_type": "code",
   "execution_count": 2,
   "id": "c5669a39",
   "metadata": {
    "execution": {
     "iopub.execute_input": "2025-06-21T01:22:13.031881Z",
     "iopub.status.busy": "2025-06-21T01:22:13.031338Z",
     "iopub.status.idle": "2025-06-21T01:22:13.040675Z",
     "shell.execute_reply": "2025-06-21T01:22:13.039599Z"
    },
    "papermill": {
     "duration": 0.015472,
     "end_time": "2025-06-21T01:22:13.042410",
     "exception": false,
     "start_time": "2025-06-21T01:22:13.026938",
     "status": "completed"
    },
    "tags": []
   },
   "outputs": [],
   "source": [
    "RAW_DIR = \"/kaggle/input/cmi-detect-behavior-with-sensor-data\"\n",
    "label_encoder = joblib.load(\"/kaggle/input/cmi-label-encoder/label_encoder.joblib\")\n",
    "\n",
    "PAD_PERCENTILE = 95"
   ]
  },
  {
   "cell_type": "code",
   "execution_count": 3,
   "id": "46baa1fe",
   "metadata": {
    "execution": {
     "iopub.execute_input": "2025-06-21T01:22:13.051497Z",
     "iopub.status.busy": "2025-06-21T01:22:13.051107Z",
     "iopub.status.idle": "2025-06-21T01:22:26.878075Z",
     "shell.execute_reply": "2025-06-21T01:22:26.876728Z"
    },
    "papermill": {
     "duration": 13.833592,
     "end_time": "2025-06-21T01:22:26.879929",
     "exception": false,
     "start_time": "2025-06-21T01:22:13.046337",
     "status": "completed"
    },
    "tags": []
   },
   "outputs": [],
   "source": [
    "train = pl.read_csv(f\"{RAW_DIR}/train.csv\")\n",
    "train_demo = pl.read_csv(f\"{RAW_DIR}/train_demographics.csv\")\n",
    "train_merged = train.join(train_demo, on=\"subject\", how=\"left\")"
   ]
  },
  {
   "cell_type": "code",
   "execution_count": 4,
   "id": "354ff494",
   "metadata": {
    "execution": {
     "iopub.execute_input": "2025-06-21T01:22:26.888533Z",
     "iopub.status.busy": "2025-06-21T01:22:26.888169Z",
     "iopub.status.idle": "2025-06-21T01:22:29.433983Z",
     "shell.execute_reply": "2025-06-21T01:22:29.432972Z"
    },
    "papermill": {
     "duration": 2.552179,
     "end_time": "2025-06-21T01:22:29.435865",
     "exception": false,
     "start_time": "2025-06-21T01:22:26.883686",
     "status": "completed"
    },
    "tags": []
   },
   "outputs": [],
   "source": [
    "train = train.with_columns(\n",
    "    pl.fold(\n",
    "        acc = pl.lit(0),\n",
    "        function = lambda acc,x: acc + x**2,\n",
    "        exprs = \"^acc_.*$\" \n",
    "    ).sqrt().alias(\"acc_mag\"),\n",
    "\n",
    "    (2*np.arccos(pl.col(\"rot_w\").clip(-1, 1))).alias(\"rot_angle\")\n",
    "    \n",
    ").with_columns(\n",
    "    pl.col(\"acc_mag\").diff().over(\"sequence_id\").fill_null(0).alias(\"acc_mag_diff\"),\n",
    "    pl.col(\"rot_angle\").diff().over(\"sequence_id\").fill_null(0).alias(\"rot_angle_diff\"),\n",
    "    \n",
    "    ## Differential features for temperature\n",
    "    pl.col(\"thm_1\").diff().over(\"sequence_id\").fill_null(0).alias(\"thm_1_diff\"),\n",
    "    pl.col(\"thm_2\").diff().over(\"sequence_id\").fill_null(0).alias(\"thm_2_diff\"),\n",
    "    pl.col(\"thm_3\").diff().over(\"sequence_id\").fill_null(0).alias(\"thm_3_diff\"),\n",
    "    pl.col(\"thm_4\").diff().over(\"sequence_id\").fill_null(0).alias(\"thm_4_diff\"),\n",
    "    pl.col(\"thm_5\").diff().over(\"sequence_id\").fill_null(0).alias(\"thm_5_diff\"),\n",
    "\n",
    "    ## Differential features for acceleration features\n",
    "    pl.col(\"acc_x\").diff().over(\"sequence_id\").fill_null(0).alias(\"acc_x_diff\"),\n",
    "    pl.col(\"acc_y\").diff().over(\"sequence_id\").fill_null(0).alias(\"acc_y_diff\"),\n",
    "    pl.col(\"acc_z\").diff().over(\"sequence_id\").fill_null(0).alias(\"acc_z_diff\"),\n",
    ").to_pandas()\n",
    "\n",
    "## Encode gestures\n",
    "train['gesture_int'] = label_encoder.transform(train['gesture'])"
   ]
  },
  {
   "cell_type": "code",
   "execution_count": 5,
   "id": "a6c06c77",
   "metadata": {
    "execution": {
     "iopub.execute_input": "2025-06-21T01:22:29.444249Z",
     "iopub.status.busy": "2025-06-21T01:22:29.443908Z",
     "iopub.status.idle": "2025-06-21T01:22:29.451755Z",
     "shell.execute_reply": "2025-06-21T01:22:29.450738Z"
    },
    "papermill": {
     "duration": 0.01396,
     "end_time": "2025-06-21T01:22:29.453463",
     "exception": false,
     "start_time": "2025-06-21T01:22:29.439503",
     "status": "completed"
    },
    "tags": []
   },
   "outputs": [],
   "source": [
    "meta_cols = {\n",
    "    'gesture', 'gesture_int', 'sequence_type', 'behavior', 'orientation',\n",
    "    'row_id', 'subject', 'phase', 'sequence_id', 'sequence_counter'\n",
    "}\n",
    "\n",
    "## imu features\n",
    "imu_cols = [\"acc_x\", \"acc_y\", \"acc_z\", \n",
    "            \"acc_x_diff\", \"acc_y_diff\", \"acc_z_diff\",\n",
    "            \"rot_w\", \"rot_x\", \"rot_y\", \"rot_z\",\n",
    "            \"acc_mag\", \"rot_angle\", \n",
    "            \"acc_mag_diff\", \"rot_angle_diff\"]\n",
    "\n",
    "## thm features\n",
    "all_thm_cols = [\"thm_1\", \"thm_2\", \"thm_3\", \"thm_4\", \"thm_5\",\n",
    "                \"thm_1_diff\", \"thm_2_diff\", \"thm_3_diff\", \"thm_4_diff\", \"thm_5_diff\"]\n",
    "tof_cols = [f\"tof_{i}_v{j}\" for i in range(1,6) for j in range(0,64)]\n",
    "\n",
    "## Store summary statistics of tof features\n",
    "tof_aggregated_cols_template = []\n",
    "for i in range(1, 6):\n",
    "    tof_aggregated_cols_template.extend([f'tof_{i}_mean', f'tof_{i}_std', f'tof_{i}_min', f'tof_{i}_max'])\n",
    "\n",
    "thm_tof_cols = all_thm_cols + tof_aggregated_cols_template + tof_cols\n",
    "\n",
    "## Aggregated features' names\n",
    "final_feature_cols = imu_cols + thm_tof_cols\n",
    "\n",
    "## Dimensions of imu features and aggreated thm-tof features\n",
    "imu_dim_final = len(imu_cols)\n",
    "tof_thm_aggregated_dim_final = len(all_thm_cols) + len(tof_aggregated_cols_template)"
   ]
  },
  {
   "cell_type": "code",
   "execution_count": 6,
   "id": "022520bd",
   "metadata": {
    "execution": {
     "iopub.execute_input": "2025-06-21T01:22:29.462482Z",
     "iopub.status.busy": "2025-06-21T01:22:29.462144Z",
     "iopub.status.idle": "2025-06-21T01:22:29.468478Z",
     "shell.execute_reply": "2025-06-21T01:22:29.467332Z"
    },
    "papermill": {
     "duration": 0.012506,
     "end_time": "2025-06-21T01:22:29.470228",
     "exception": false,
     "start_time": "2025-06-21T01:22:29.457722",
     "status": "completed"
    },
    "tags": []
   },
   "outputs": [
    {
     "name": "stdout",
     "output_type": "stream",
     "text": [
      "Total Features Count: 364\n"
     ]
    }
   ],
   "source": [
    "print(f\"Total Features Count: {len(final_feature_cols)}\")"
   ]
  },
  {
   "cell_type": "code",
   "execution_count": 7,
   "id": "c2356fd5",
   "metadata": {
    "execution": {
     "iopub.execute_input": "2025-06-21T01:22:29.479610Z",
     "iopub.status.busy": "2025-06-21T01:22:29.479177Z",
     "iopub.status.idle": "2025-06-21T01:25:21.495211Z",
     "shell.execute_reply": "2025-06-21T01:25:21.494059Z"
    },
    "papermill": {
     "duration": 172.023061,
     "end_time": "2025-06-21T01:25:21.497304",
     "exception": false,
     "start_time": "2025-06-21T01:22:29.474243",
     "status": "completed"
    },
    "tags": []
   },
   "outputs": [],
   "source": [
    "seq_groups = train.groupby('sequence_id') \n",
    "\n",
    "all_steps_for_scaler_list = []\n",
    "X_list, y_int, lens = [], [], [] \n",
    "\n",
    "## Make and store only reelvant features, stores gesture, store sequence lengths \n",
    "for seq_id,seq_df_orig in seq_groups:\n",
    "    seq_df = seq_df_orig.copy()\n",
    "    for i in range(1, 6):\n",
    "        pixel_cols_tof = [f\"tof_{i}_v{p}\" for p in range(64)]\n",
    "        tof_sensor_data = seq_df[pixel_cols_tof].replace(-1, np.nan)\n",
    "        seq_df[f'tof_{i}_mean'] = tof_sensor_data.mean(axis=1)\n",
    "        seq_df[f'tof_{i}_std']  = tof_sensor_data.std(axis=1)\n",
    "        seq_df[f'tof_{i}_min']  = tof_sensor_data.min(axis=1)\n",
    "        seq_df[f'tof_{i}_max']  = tof_sensor_data.max(axis=1)\n",
    "        \n",
    "    mat_unscaled = seq_df[final_feature_cols].ffill().bfill().fillna(0).values.astype('float32')\n",
    "        \n",
    "    all_steps_for_scaler_list.append(mat_unscaled)\n",
    "    X_list.append(mat_unscaled)\n",
    "    y_int.append(seq_df['gesture_int'].iloc[0])\n",
    "    lens.append(len(mat_unscaled))"
   ]
  },
  {
   "cell_type": "code",
   "execution_count": 8,
   "id": "56e35f27",
   "metadata": {
    "execution": {
     "iopub.execute_input": "2025-06-21T01:25:21.506968Z",
     "iopub.status.busy": "2025-06-21T01:25:21.506589Z",
     "iopub.status.idle": "2025-06-21T01:25:24.414600Z",
     "shell.execute_reply": "2025-06-21T01:25:24.413481Z"
    },
    "papermill": {
     "duration": 2.914461,
     "end_time": "2025-06-21T01:25:24.416400",
     "exception": false,
     "start_time": "2025-06-21T01:25:21.501939",
     "status": "completed"
    },
    "tags": []
   },
   "outputs": [],
   "source": [
    "all_steps_concatenated = np.concatenate(all_steps_for_scaler_list, axis=0)\n",
    "scaler = StandardScaler().fit(all_steps_concatenated)\n",
    "\n",
    "del all_steps_for_scaler_list, all_steps_concatenated"
   ]
  },
  {
   "cell_type": "code",
   "execution_count": 9,
   "id": "210edb46",
   "metadata": {
    "execution": {
     "iopub.execute_input": "2025-06-21T01:25:24.426469Z",
     "iopub.status.busy": "2025-06-21T01:25:24.425413Z",
     "iopub.status.idle": "2025-06-21T01:25:24.431316Z",
     "shell.execute_reply": "2025-06-21T01:25:24.430319Z"
    },
    "papermill": {
     "duration": 0.012409,
     "end_time": "2025-06-21T01:25:24.433132",
     "exception": false,
     "start_time": "2025-06-21T01:25:24.420723",
     "status": "completed"
    },
    "tags": []
   },
   "outputs": [],
   "source": [
    "def preprocess_sequence(df_seq: pd.DataFrame, feature_cols: list, scaler: StandardScaler):\n",
    "    \"\"\"Normalizes and cleans the time series sequence\"\"\"\n",
    "    mat = df_seq[feature_cols].ffill().bfill().fillna(0).values\n",
    "    return scaler.transform(mat).astype('float32')"
   ]
  },
  {
   "cell_type": "code",
   "execution_count": 10,
   "id": "bab635ee",
   "metadata": {
    "execution": {
     "iopub.execute_input": "2025-06-21T01:25:24.441835Z",
     "iopub.status.busy": "2025-06-21T01:25:24.441401Z",
     "iopub.status.idle": "2025-06-21T01:25:24.450505Z",
     "shell.execute_reply": "2025-06-21T01:25:24.449704Z"
    },
    "papermill": {
     "duration": 0.015442,
     "end_time": "2025-06-21T01:25:24.452293",
     "exception": false,
     "start_time": "2025-06-21T01:25:24.436851",
     "status": "completed"
    },
    "tags": []
   },
   "outputs": [],
   "source": [
    "def pad_sequences(sequences, maxlen, padding='post', truncating='post', dtype=torch.float32):\n",
    "    \"\"\"\n",
    "    Pads a list of PyTorch tensors to a specified maxlen.\n",
    "    \"\"\"\n",
    "    if not sequences: return torch.empty(0, maxlen, 0, dtype=dtype) # Handle empty list of sequences\n",
    "\n",
    "    # Assume all sequences have the same feature dimension\n",
    "    feature_dim = sequences[0].shape[-1]\n",
    "    # Convert all sequences to tensor type\n",
    "    sequences = [torch.tensor(seq, dtype=dtype) if not isinstance(seq, torch.Tensor) else seq \n",
    "                 for seq in sequences]\n",
    "    \n",
    "    padded_sequences = []\n",
    "    for seq in sequences:\n",
    "        current_len = seq.shape[0]\n",
    "        \n",
    "        # Truncate if necessary\n",
    "        if current_len > maxlen:\n",
    "            if truncating == 'pre':\n",
    "                truncated_seq = seq[-maxlen:]\n",
    "            else: # 'post'\n",
    "                truncated_seq = seq[:maxlen]\n",
    "        else:\n",
    "            truncated_seq = seq\n",
    "\n",
    "        padding_needed = maxlen - truncated_seq.shape[0]\n",
    "        \n",
    "        # Pad if necessary\n",
    "        if padding_needed > 0:\n",
    "            if padding == 'pre':\n",
    "                # F.pad format: (pad_left, pad_right, pad_top, pad_bottom, ...)\n",
    "                # For (timesteps, features), we pad (0,0) for features, (padding_needed, 0) for timesteps\n",
    "                padded_seq = F.pad(truncated_seq, (0, 0, padding_needed, 0), 'constant', 0)\n",
    "            else: # 'post'\n",
    "                padded_seq = F.pad(truncated_seq, (0, 0, 0, padding_needed), 'constant', 0)\n",
    "        else:\n",
    "            padded_seq = truncated_seq\n",
    "        padded_sequences.append(padded_seq)\n",
    "            \n",
    "    return torch.stack(padded_sequences).to(dtype)"
   ]
  },
  {
   "cell_type": "code",
   "execution_count": 11,
   "id": "4e21ba20",
   "metadata": {
    "execution": {
     "iopub.execute_input": "2025-06-21T01:25:24.460968Z",
     "iopub.status.busy": "2025-06-21T01:25:24.460434Z",
     "iopub.status.idle": "2025-06-21T01:25:46.785262Z",
     "shell.execute_reply": "2025-06-21T01:25:46.777994Z"
    },
    "papermill": {
     "duration": 22.340759,
     "end_time": "2025-06-21T01:25:46.796817",
     "exception": false,
     "start_time": "2025-06-21T01:25:24.456058",
     "status": "completed"
    },
    "tags": []
   },
   "outputs": [],
   "source": [
    "## Process all sequences\n",
    "X_list = [\n",
    "    preprocess_sequence(\n",
    "        pd.DataFrame(x_seq, columns=final_feature_cols), \n",
    "        final_feature_cols,\n",
    "        scaler)\n",
    "    for x_seq in X_list\n",
    "]\n",
    "\n",
    "## Finds the appropriate pad length\n",
    "pad_len = int(np.percentile(lens, PAD_PERCENTILE))\n",
    "\n",
    "## Pad all sequences and converts to tensor \n",
    "X = pad_sequences(X_list, maxlen=pad_len, padding='post', truncating='post')\n",
    "\n",
    "del X_list"
   ]
  },
  {
   "cell_type": "code",
   "execution_count": 12,
   "id": "79dcacb9",
   "metadata": {
    "execution": {
     "iopub.execute_input": "2025-06-21T01:25:46.863648Z",
     "iopub.status.busy": "2025-06-21T01:25:46.863219Z",
     "iopub.status.idle": "2025-06-21T01:25:46.938057Z",
     "shell.execute_reply": "2025-06-21T01:25:46.932414Z"
    },
    "papermill": {
     "duration": 0.119018,
     "end_time": "2025-06-21T01:25:46.948752",
     "exception": false,
     "start_time": "2025-06-21T01:25:46.829734",
     "status": "completed"
    },
    "tags": []
   },
   "outputs": [],
   "source": [
    "y_int = np.array(y_int)\n",
    "# Convert to one-hot for MixupDataset (which uses soft targets)\n",
    "y_one_hot = F.one_hot(torch.tensor(y_int, dtype=torch.long), num_classes=18).float()"
   ]
  },
  {
   "cell_type": "code",
   "execution_count": 13,
   "id": "334b9826",
   "metadata": {
    "execution": {
     "iopub.execute_input": "2025-06-21T01:25:46.988600Z",
     "iopub.status.busy": "2025-06-21T01:25:46.987776Z",
     "iopub.status.idle": "2025-06-21T01:25:54.343151Z",
     "shell.execute_reply": "2025-06-21T01:25:54.342229Z"
    },
    "papermill": {
     "duration": 7.387243,
     "end_time": "2025-06-21T01:25:54.349850",
     "exception": false,
     "start_time": "2025-06-21T01:25:46.962607",
     "status": "completed"
    },
    "tags": []
   },
   "outputs": [
    {
     "data": {
      "text/plain": [
       "['final_feature_cols.joblib']"
      ]
     },
     "execution_count": 13,
     "metadata": {},
     "output_type": "execute_result"
    }
   ],
   "source": [
    "torch.save(X, \"X.pt\")\n",
    "torch.save(y_one_hot, \"y_ohe.pt\")\n",
    "np.save(\"y_int.npy\", y_int)\n",
    "joblib.dump(scaler, \"StandardScaler.joblib\")\n",
    "joblib.dump(imu_cols, \"imu_cols.joblib\")\n",
    "joblib.dump(thm_tof_cols, \"thm_tof_cols.joblib\")\n",
    "joblib.dump(tof_cols, \"tof_cols.joblib\")\n",
    "joblib.dump(final_feature_cols, \"final_feature_cols.joblib\")"
   ]
  },
  {
   "cell_type": "code",
   "execution_count": 14,
   "id": "9596be1c",
   "metadata": {
    "execution": {
     "iopub.execute_input": "2025-06-21T01:25:54.733462Z",
     "iopub.status.busy": "2025-06-21T01:25:54.732543Z",
     "iopub.status.idle": "2025-06-21T01:25:54.741007Z",
     "shell.execute_reply": "2025-06-21T01:25:54.740028Z"
    },
    "papermill": {
     "duration": 0.221344,
     "end_time": "2025-06-21T01:25:54.745035",
     "exception": false,
     "start_time": "2025-06-21T01:25:54.523691",
     "status": "completed"
    },
    "tags": []
   },
   "outputs": [
    {
     "data": {
      "text/plain": [
       "torch.Size([8151, 127, 364])"
      ]
     },
     "execution_count": 14,
     "metadata": {},
     "output_type": "execute_result"
    }
   ],
   "source": [
    "X.shape\n",
    "## X shape: (total num of sequences, padded size of each sequence, number of features per sequence)"
   ]
  }
 ],
 "metadata": {
  "kaggle": {
   "accelerator": "none",
   "dataSources": [
    {
     "databundleVersionId": 12518947,
     "sourceId": 102335,
     "sourceType": "competition"
    },
    {
     "sourceId": 245998721,
     "sourceType": "kernelVersion"
    }
   ],
   "dockerImageVersionId": 31040,
   "isGpuEnabled": false,
   "isInternetEnabled": true,
   "language": "python",
   "sourceType": "notebook"
  },
  "kernelspec": {
   "display_name": "Python 3",
   "language": "python",
   "name": "python3"
  },
  "language_info": {
   "codemirror_mode": {
    "name": "ipython",
    "version": 3
   },
   "file_extension": ".py",
   "mimetype": "text/x-python",
   "name": "python",
   "nbconvert_exporter": "python",
   "pygments_lexer": "ipython3",
   "version": "3.11.11"
  },
  "papermill": {
   "default_parameters": {},
   "duration": 240.405876,
   "end_time": "2025-06-21T01:25:58.470440",
   "environment_variables": {},
   "exception": null,
   "input_path": "__notebook__.ipynb",
   "output_path": "__notebook__.ipynb",
   "parameters": {},
   "start_time": "2025-06-21T01:21:58.064564",
   "version": "2.6.0"
  }
 },
 "nbformat": 4,
 "nbformat_minor": 5
}
